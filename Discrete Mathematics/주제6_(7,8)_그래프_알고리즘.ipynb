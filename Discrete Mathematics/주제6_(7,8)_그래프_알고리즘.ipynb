{
  "nbformat": 4,
  "nbformat_minor": 0,
  "metadata": {
    "colab": {
      "provenance": [],
      "include_colab_link": true
    },
    "kernelspec": {
      "name": "python3",
      "display_name": "Python 3"
    },
    "language_info": {
      "name": "python"
    }
  },
  "cells": [
    {
      "cell_type": "markdown",
      "metadata": {
        "id": "view-in-github",
        "colab_type": "text"
      },
      "source": [
        "<a href=\"https://colab.research.google.com/github/HIT18216/Homework/blob/main/Discrete%20Mathematics/%EC%A3%BC%EC%A0%9C6_(7%2C8)_%EA%B7%B8%EB%9E%98%ED%94%84_%EC%95%8C%EA%B3%A0%EB%A6%AC%EC%A6%98.ipynb\" target=\"_parent\"><img src=\"https://colab.research.google.com/assets/colab-badge.svg\" alt=\"Open In Colab\"/></a>"
      ]
    },
    {
      "cell_type": "markdown",
      "metadata": {
        "id": "YJnuJPN5L4xg"
      },
      "source": [
        "# 과제 7 & 8: 그래프 알고리즘\n",
        "---\n",
        "박정현(pwjdgus1017@donga.ac.kr), 배정훈(rhenus9911@gmail.com), 최재혁(fkdlfkdl68@donga.ac.kr), 권건우(a71463092@gmail.com)\n",
        "---\n",
        "우리는 그래프에 대한 이론을 학습하였다. 특히, 우리는 다양한 그래프에 대한 종류(Complete graph, isomorphism graph, homomorphism graph, spanning graph, euler graph, hamilton graph 등을 학삽하였다. 또한 그에 관련된 알고리즘으로써, 우리는 그래프 종류에 대한 평가 방법(각 그래프 종류 판별법) 및 관련된 알고리즘(판매원 탐방, 최단 경로, 그래프 컬러링 등)를 학습하였다. 이를 기반으로, 아래의 주어진 문제 7, 8 에 대한 코드를 작성하시오.\n",
        "\n",
        "\n"
      ]
    },
    {
      "cell_type": "markdown",
      "metadata": {
        "id": "LyFhqIPQ2WFt"
      },
      "source": [
        "# 해당파일 활용 방법- [메뉴] 파일->드라이브에 사본 저장을 통해서 프로그램 실행하시면 됩니다."
      ]
    },
    {
      "cell_type": "markdown",
      "metadata": {
        "collapsed": false,
        "pycharm": {
          "name": "#%% md\n"
        },
        "id": "2fkhiOxW1uS1"
      },
      "source": [
        "https://drive.google.com/drive/folders/1-aB3OQy8BSr_lolDm-3jquzdr_HumoNU?usp=sharing\n",
        "\n",
        "위의 공유 폴더링크 에서 데이터셋을 다운로드 받아서, 업로드하고 프로그램 수행하시기 바랍니다.\n",
        "\n",
        "- airports.csv\n",
        "- 188591317_T_ONTIME.csv.gz"
      ]
    },
    {
      "cell_type": "markdown",
      "metadata": {
        "id": "BnJ0u5qZgwjo"
      },
      "source": [
        "# 문제 7: 여러가지 그래프 판별법\n",
        "Isomorphism graph, Sparse and Dense graphs, Euler and Hamiltonian graph를 인지를 확인하는 코드를 작성하시오.\n"
      ]
    },
    {
      "cell_type": "code",
      "metadata": {
        "id": "OvfK1glUhf1I"
      },
      "source": [
        "import networkx as nx"
      ],
      "execution_count": null,
      "outputs": []
    },
    {
      "cell_type": "markdown",
      "metadata": {
        "collapsed": false,
        "pycharm": {
          "name": "#%% md\n"
        },
        "id": "X12vXI7v1uTD"
      },
      "source": [
        "## 문제 7-1: Isomorphism\n",
        "주어진 두 Directed 그래프 (G1, G2) 로부터 Isomorphism graph 인지를 판별하기"
      ]
    },
    {
      "cell_type": "code",
      "metadata": {
        "pycharm": {
          "name": "#%%\n"
        },
        "id": "YYzSj7Qk1uTD"
      },
      "source": [
        "def is_isomorphic(G1, G2):\n",
        "  '''\n",
        "  G1과 G2가 isomorphic 관계인지를 체크\n",
        "  :param G1: Directed 그래프\n",
        "  :param G2: Directed 그래프\n",
        "  :return: Boolean\n",
        "  '''\n",
        "  if G1.number_of_nodes()!=G2.number_of_nodes():\n",
        "    if G1.number_of_edges()!=G2.number_of_edges():\n",
        "      return False\n",
        "  i=0\n",
        "  j=G1.number_of_nodes()\n",
        "  while i<j:\n",
        "    for n in G1:\n",
        "      for m in G2:\n",
        "        if G1.in_degree(n) == G2.in_degree(m):\n",
        "          if G1.out_degree(n) == G2.out_degree(m):\n",
        "            G2.remove_node(m)\n",
        "            break\n",
        "      if G1.number_of_nodes()!= G2.number_of_nodes():\n",
        "        G1.remove_node(n)\n",
        "        break\n",
        "    i=i+1\n",
        "  if G1.number_of_nodes() == 0:\n",
        "    if G2. number_of_nodes() == 0:\n",
        "      return True\n",
        "  return False"
      ],
      "execution_count": null,
      "outputs": []
    },
    {
      "cell_type": "code",
      "metadata": {
        "pycharm": {
          "name": "#%%\n"
        },
        "colab": {
          "base_uri": "https://localhost:8080/"
        },
        "id": "hfmry0Ov1uTD",
        "outputId": "dd9cade9-ea5a-44f9-b882-875cb5632359"
      },
      "source": [
        "g1 = nx.DiGraph()\n",
        "g2 = nx.DiGraph()\n",
        "nx.add_path(g1, [1,2,3,4,5,6,7,8,9,10])\n",
        "nx.add_path(g2, [10,20,30,40,50,60,70,80,90,100])\n",
        "print(is_isomorphic(g1,g2)) # nx.is_isomorphic 사용하지 말 것"
      ],
      "execution_count": null,
      "outputs": [
        {
          "output_type": "stream",
          "name": "stdout",
          "text": [
            "True\n"
          ]
        }
      ]
    },
    {
      "cell_type": "markdown",
      "metadata": {
        "pycharm": {
          "name": "#%% md\n"
        },
        "id": "AI2JA3w31uTD",
        "outputId": "dd9cacea-8082-4ace-c1d2-57f81eff1ce4"
      },
      "source": [
        "## 문제 7-2: Graph Density\n",
        "다음 그래프에 대해서 Graph Density를 계산하는 구하는 함수 def calculate_density()를 작성하여라. 또한"
      ]
    },
    {
      "cell_type": "code",
      "metadata": {
        "pycharm": {
          "name": "#%%\n"
        },
        "id": "BCqOh-9W1uTE"
      },
      "source": [
        "def calculate_density(G):\n",
        "  '''\n",
        "  :param G: directed 그래프\n",
        "  :return: graph density의 값 [0,1]\n",
        "  '''\n",
        "  return G.number_of_edges()/(G.number_of_nodes()*(G.number_of_nodes()-1))"
      ],
      "execution_count": null,
      "outputs": []
    },
    {
      "cell_type": "code",
      "metadata": {
        "pycharm": {
          "name": "#%%\n"
        },
        "id": "temWpnh6mnuA",
        "colab": {
          "base_uri": "https://localhost:8080/"
        },
        "outputId": "4c0e7013-f624-4584-a98d-adc968b0aba0"
      },
      "source": [
        "g = nx.watts_strogatz_graph(50, 20, 1)\n",
        "calculate_density(g) # nx.density 사용하지 말 것"
      ],
      "execution_count": null,
      "outputs": [
        {
          "output_type": "execute_result",
          "data": {
            "text/plain": [
              "0.20408163265306123"
            ]
          },
          "metadata": {},
          "execution_count": 5
        }
      ]
    },
    {
      "cell_type": "markdown",
      "metadata": {
        "collapsed": false,
        "pycharm": {
          "name": "#%% md\n"
        },
        "id": "WXWuv4JdmnuA"
      },
      "source": [
        "## 문제 7-3: Euler graph\n",
        "다음 주어진 그래프가 Euler graph 인지를 확인하는 코드를 작성하시오"
      ]
    },
    {
      "cell_type": "code",
      "metadata": {
        "pycharm": {
          "name": "#%%\n"
        },
        "id": "1ZMJLjGsmnuB"
      },
      "source": [
        "def is_Eulerian(g):\n",
        "  '''\n",
        "  :param g: undirected graph\n",
        "  :return: Boolean\n",
        "  '''\n",
        "  for n in g:\n",
        "    if g.degree(n)%2!=0:\n",
        "      return False\n",
        "  return True"
      ],
      "execution_count": null,
      "outputs": []
    },
    {
      "cell_type": "markdown",
      "metadata": {
        "collapsed": false,
        "id": "VlCAtsxUmnuB"
      },
      "source": []
    },
    {
      "cell_type": "code",
      "metadata": {
        "pycharm": {
          "name": "#%%\n"
        },
        "colab": {
          "base_uri": "https://localhost:8080/",
          "height": 319
        },
        "id": "20Id3PwhmnuB",
        "outputId": "e1213d09-33c2-4110-fcae-da456dec141b"
      },
      "source": [
        "g = nx.path_graph(5)\n",
        "nx.draw(g, with_labels=True)"
      ],
      "execution_count": null,
      "outputs": [
        {
          "output_type": "display_data",
          "data": {
            "image/png": "[encoded data removed]",
            "text/plain": [
              "<Figure size 432x288 with 1 Axes>"
            ]
          },
          "metadata": {}
        }
      ]
    },
    {
      "cell_type": "code",
      "metadata": {
        "pycharm": {
          "name": "#%%\n"
        },
        "id": "_Cvk7frPmnuB",
        "colab": {
          "base_uri": "https://localhost:8080/"
        },
        "outputId": "c4113afb-b748-47b1-9a87-d8cb72a59b48"
      },
      "source": [
        "is_Eulerian(g) # nx.is_Eulerian 사용하지 말 것"
      ],
      "execution_count": null,
      "outputs": [
        {
          "output_type": "execute_result",
          "data": {
            "text/plain": [
              "False"
            ]
          },
          "metadata": {},
          "execution_count": 8
        }
      ]
    },
    {
      "cell_type": "markdown",
      "metadata": {
        "collapsed": false,
        "pycharm": {
          "name": "#%% md\n"
        },
        "id": "t98VaQZrmnuC"
      },
      "source": [
        "# 문제 8: 그래프 알고리즘 사용하기"
      ]
    },
    {
      "cell_type": "markdown",
      "metadata": {
        "collapsed": false,
        "pycharm": {
          "name": "#%% md\n"
        },
        "id": "M6b1WmORmnuC"
      },
      "source": [
        "그래프 알고리즘이 주로 사용되는 예는 항공운항정보의 네트워크를 구성할때 사용한다. 그래프 모델에서, 항공사(airlines)혹은 공항(airports)는 노드(Nodes/Vertices)로 구성되고 각 공항간의 운항 정보는 관계(Relationships/Edges)로 표현된다."
      ]
    },
    {
      "cell_type": "markdown",
      "metadata": {
        "collapsed": false,
        "pycharm": {
          "name": "#%% md\n"
        },
        "id": "JvPJkEoUmnuC"
      },
      "source": [
        "## 항공운항정보 데이터 셋업"
      ]
    },
    {
      "cell_type": "code",
      "metadata": {
        "pycharm": {
          "name": "#%%\n"
        },
        "id": "dGS9p1brmnuC"
      },
      "source": [
        "import pandas as pd"
      ],
      "execution_count": null,
      "outputs": []
    },
    {
      "cell_type": "code",
      "metadata": {
        "pycharm": {
          "name": "#%%\n"
        },
        "id": "E4cpDR-amnuC"
      },
      "source": [
        "# 공항 정보, 항공사, 운항정보를 불러오기를 수행한다\n",
        "airports = pd.read_csv(\"airports.csv\", header=None)"
      ],
      "execution_count": null,
      "outputs": []
    },
    {
      "cell_type": "code",
      "metadata": {
        "pycharm": {
          "name": "#%%\n"
        },
        "id": "CJAau9vJmnuD"
      },
      "source": [
        "usa_airports = airports[airports.iloc[:, 3] == 'United States'] # 미국 내 공항만 추출"
      ],
      "execution_count": null,
      "outputs": []
    },
    {
      "cell_type": "code",
      "metadata": {
        "pycharm": {
          "name": "#%%\n"
        },
        "colab": {
          "base_uri": "https://localhost:8080/",
          "height": 424
        },
        "id": "T8jFkLaYmnuD",
        "outputId": "fd71fe0d-a2f9-4b8a-8aa4-43177721dc73"
      },
      "source": [
        "usa_airports = usa_airports.loc[:,[1,4,6,7]]\n",
        "usa_airports.rename(columns={1: 'name', 4: 'id', 6: 'latitude', 7: 'longitude'}, inplace=True)\n",
        "usa_airports\n",
        "# column_names=['name','id','latitude','longitude']"
      ],
      "execution_count": null,
      "outputs": [
        {
          "output_type": "execute_result",
          "data": {
            "text/html": [
              "<div>\n",
              "<style scoped>\n",
              "    .dataframe tbody tr th:only-of-type {\n",
              "        vertical-align: middle;\n",
              "    }\n",
              "\n",
              "    .dataframe tbody tr th {\n",
              "        vertical-align: top;\n",
              "    }\n",
              "\n",
              "    .dataframe thead th {\n",
              "        text-align: right;\n",
              "    }\n",
              "</style>\n",
              "<table border=\"1\" class=\"dataframe\">\n",
              "  <thead>\n",
              "    <tr style=\"text-align: right;\">\n",
              "      <th></th>\n",
              "      <th>name</th>\n",
              "      <th>id</th>\n",
              "      <th>latitude</th>\n",
              "      <th>longitude</th>\n",
              "    </tr>\n",
              "  </thead>\n",
              "  <tbody>\n",
              "    <tr>\n",
              "      <th>3200</th>\n",
              "      <td>Barter Island LRRS Airport</td>\n",
              "      <td>BTI</td>\n",
              "      <td>70.134003</td>\n",
              "      <td>-143.582001</td>\n",
              "    </tr>\n",
              "    <tr>\n",
              "      <th>3201</th>\n",
              "      <td>Cape Lisburne LRRS Airport</td>\n",
              "      <td>LUR</td>\n",
              "      <td>68.875099</td>\n",
              "      <td>-166.110001</td>\n",
              "    </tr>\n",
              "    <tr>\n",
              "      <th>3202</th>\n",
              "      <td>Point Lay LRRS Airport</td>\n",
              "      <td>PIZ</td>\n",
              "      <td>69.732903</td>\n",
              "      <td>-163.005005</td>\n",
              "    </tr>\n",
              "    <tr>\n",
              "      <th>3203</th>\n",
              "      <td>Hilo International Airport</td>\n",
              "      <td>ITO</td>\n",
              "      <td>19.721399</td>\n",
              "      <td>-155.048004</td>\n",
              "    </tr>\n",
              "    <tr>\n",
              "      <th>3204</th>\n",
              "      <td>Orlando Executive Airport</td>\n",
              "      <td>ORL</td>\n",
              "      <td>28.545500</td>\n",
              "      <td>-81.332901</td>\n",
              "    </tr>\n",
              "    <tr>\n",
              "      <th>...</th>\n",
              "      <td>...</td>\n",
              "      <td>...</td>\n",
              "      <td>...</td>\n",
              "      <td>...</td>\n",
              "    </tr>\n",
              "    <tr>\n",
              "      <th>6996</th>\n",
              "      <td>Cape Canaveral AFS Skid Strip</td>\n",
              "      <td>XMR</td>\n",
              "      <td>28.467600</td>\n",
              "      <td>-80.566597</td>\n",
              "    </tr>\n",
              "    <tr>\n",
              "      <th>6997</th>\n",
              "      <td>Homey (Area 51) Airport</td>\n",
              "      <td>\\N</td>\n",
              "      <td>37.235001</td>\n",
              "      <td>-115.810997</td>\n",
              "    </tr>\n",
              "    <tr>\n",
              "      <th>6998</th>\n",
              "      <td>Zanesville Municipal Airport</td>\n",
              "      <td>ZZV</td>\n",
              "      <td>39.944401</td>\n",
              "      <td>-81.892097</td>\n",
              "    </tr>\n",
              "    <tr>\n",
              "      <th>7048</th>\n",
              "      <td>Nenana Municipal Airport</td>\n",
              "      <td>ENN</td>\n",
              "      <td>64.547302</td>\n",
              "      <td>-149.074005</td>\n",
              "    </tr>\n",
              "    <tr>\n",
              "      <th>7049</th>\n",
              "      <td>Wasilla Airport</td>\n",
              "      <td>WWA</td>\n",
              "      <td>61.571701</td>\n",
              "      <td>-149.539993</td>\n",
              "    </tr>\n",
              "  </tbody>\n",
              "</table>\n",
              "<p>1435 rows × 4 columns</p>\n",
              "</div>"
            ],
            "text/plain": [
              "                               name   id   latitude   longitude\n",
              "3200     Barter Island LRRS Airport  BTI  70.134003 -143.582001\n",
              "3201     Cape Lisburne LRRS Airport  LUR  68.875099 -166.110001\n",
              "3202         Point Lay LRRS Airport  PIZ  69.732903 -163.005005\n",
              "3203     Hilo International Airport  ITO  19.721399 -155.048004\n",
              "3204      Orlando Executive Airport  ORL  28.545500  -81.332901\n",
              "...                             ...  ...        ...         ...\n",
              "6996  Cape Canaveral AFS Skid Strip  XMR  28.467600  -80.566597\n",
              "6997        Homey (Area 51) Airport   \\N  37.235001 -115.810997\n",
              "6998   Zanesville Municipal Airport  ZZV  39.944401  -81.892097\n",
              "7048       Nenana Municipal Airport  ENN  64.547302 -149.074005\n",
              "7049                Wasilla Airport  WWA  61.571701 -149.539993\n",
              "\n",
              "[1435 rows x 4 columns]"
            ]
          },
          "metadata": {},
          "execution_count": 12
        }
      ]
    },
    {
      "cell_type": "code",
      "metadata": {
        "pycharm": {
          "name": "#%%\n"
        },
        "id": "F2yXOTULmnuD"
      },
      "source": [
        "trips = pd.read_csv(\"188591317_T_ONTIME.csv.gz\", low_memory=False)"
      ],
      "execution_count": null,
      "outputs": []
    },
    {
      "cell_type": "code",
      "metadata": {
        "pycharm": {
          "name": "#%%\n"
        },
        "id": "ruhqkjPzmnuD"
      },
      "source": [
        "trips.rename(columns={\"ORIGIN\":\"src\", \"DEST\":\"dst\", \"DEP_DELAY\":\"deptDelay\", \"ARR_DELAY\":\"arrDelay\",\"TAIL_NUM\":\"tailNumber\",\"FL_NUM\":\"flightNumber\",\"FL_DATE\":\"date\", \"CRS_DEP_TIME\":\"time\",\"CRS_ARR_TIME\":\"arrivalTime\",\"DISTANCE\":\"distance\",\"UNIQUE_CARRIER\":\"airline\"}, inplace=True)"
      ],
      "execution_count": null,
      "outputs": []
    },
    {
      "cell_type": "code",
      "metadata": {
        "pycharm": {
          "name": "#%%\n"
        },
        "id": "T9MPeoNEmnuD"
      },
      "source": [
        "G = nx.from_pandas_edgelist(trips, source=\"src\", target=\"dst\", edge_attr=['distance'], create_using=nx.DiGraph())"
      ],
      "execution_count": null,
      "outputs": []
    },
    {
      "cell_type": "code",
      "metadata": {
        "pycharm": {
          "name": "#%%\n"
        },
        "colab": {
          "base_uri": "https://localhost:8080/",
          "height": 319
        },
        "id": "wisEtucwmnuE",
        "outputId": "8c766ec6-dfeb-4fb5-b3b6-a29bac833507"
      },
      "source": [
        "nx.draw(G, with_labels=True, arrows=True)"
      ],
      "execution_count": null,
      "outputs": [
        {
          "output_type": "display_data",
          "data": {
            "image/png": "[encoded data removed]",
            "text/plain": [
              "<Figure size 432x288 with 1 Axes>"
            ]
          },
          "metadata": {}
        }
      ]
    },
    {
      "cell_type": "code",
      "metadata": {
        "pycharm": {
          "name": "#%%\n"
        },
        "colab": {
          "base_uri": "https://localhost:8080/",
          "height": 652
        },
        "id": "bikqN0hDmnuE",
        "outputId": "132280a7-cd9a-4e52-e63b-f5df2e88c01c"
      },
      "source": [
        "trips"
      ],
      "execution_count": null,
      "outputs": [
        {
          "output_type": "execute_result",
          "data": {
            "text/html": [
              "<div>\n",
              "<style scoped>\n",
              "    .dataframe tbody tr th:only-of-type {\n",
              "        vertical-align: middle;\n",
              "    }\n",
              "\n",
              "    .dataframe tbody tr th {\n",
              "        vertical-align: top;\n",
              "    }\n",
              "\n",
              "    .dataframe thead th {\n",
              "        text-align: right;\n",
              "    }\n",
              "</style>\n",
              "<table border=\"1\" class=\"dataframe\">\n",
              "  <thead>\n",
              "    <tr style=\"text-align: right;\">\n",
              "      <th></th>\n",
              "      <th>YEAR</th>\n",
              "      <th>QUARTER</th>\n",
              "      <th>MONTH</th>\n",
              "      <th>DAY_OF_MONTH</th>\n",
              "      <th>DAY_OF_WEEK</th>\n",
              "      <th>date</th>\n",
              "      <th>airline</th>\n",
              "      <th>AIRLINE_ID</th>\n",
              "      <th>CARRIER</th>\n",
              "      <th>tailNumber</th>\n",
              "      <th>flightNumber</th>\n",
              "      <th>ORIGIN_AIRPORT_ID</th>\n",
              "      <th>ORIGIN_AIRPORT_SEQ_ID</th>\n",
              "      <th>ORIGIN_CITY_MARKET_ID</th>\n",
              "      <th>src</th>\n",
              "      <th>ORIGIN_CITY_NAME</th>\n",
              "      <th>ORIGIN_STATE_ABR</th>\n",
              "      <th>ORIGIN_STATE_FIPS</th>\n",
              "      <th>ORIGIN_STATE_NM</th>\n",
              "      <th>ORIGIN_WAC</th>\n",
              "      <th>DEST_AIRPORT_ID</th>\n",
              "      <th>DEST_AIRPORT_SEQ_ID</th>\n",
              "      <th>DEST_CITY_MARKET_ID</th>\n",
              "      <th>dst</th>\n",
              "      <th>DEST_CITY_NAME</th>\n",
              "      <th>DEST_STATE_ABR</th>\n",
              "      <th>DEST_STATE_FIPS</th>\n",
              "      <th>DEST_STATE_NM</th>\n",
              "      <th>DEST_WAC</th>\n",
              "      <th>time</th>\n",
              "      <th>DEP_TIME</th>\n",
              "      <th>deptDelay</th>\n",
              "      <th>DEP_DELAY_NEW</th>\n",
              "      <th>DEP_DEL15</th>\n",
              "      <th>DEP_DELAY_GROUP</th>\n",
              "      <th>DEP_TIME_BLK</th>\n",
              "      <th>TAXI_OUT</th>\n",
              "      <th>WHEELS_OFF</th>\n",
              "      <th>WHEELS_ON</th>\n",
              "      <th>TAXI_IN</th>\n",
              "      <th>...</th>\n",
              "      <th>DIV1_AIRPORT_ID</th>\n",
              "      <th>DIV1_AIRPORT_SEQ_ID</th>\n",
              "      <th>DIV1_WHEELS_ON</th>\n",
              "      <th>DIV1_TOTAL_GTIME</th>\n",
              "      <th>DIV1_LONGEST_GTIME</th>\n",
              "      <th>DIV1_WHEELS_OFF</th>\n",
              "      <th>DIV1_TAIL_NUM</th>\n",
              "      <th>DIV2_AIRPORT</th>\n",
              "      <th>DIV2_AIRPORT_ID</th>\n",
              "      <th>DIV2_AIRPORT_SEQ_ID</th>\n",
              "      <th>DIV2_WHEELS_ON</th>\n",
              "      <th>DIV2_TOTAL_GTIME</th>\n",
              "      <th>DIV2_LONGEST_GTIME</th>\n",
              "      <th>DIV2_WHEELS_OFF</th>\n",
              "      <th>DIV2_TAIL_NUM</th>\n",
              "      <th>DIV3_AIRPORT</th>\n",
              "      <th>DIV3_AIRPORT_ID</th>\n",
              "      <th>DIV3_AIRPORT_SEQ_ID</th>\n",
              "      <th>DIV3_WHEELS_ON</th>\n",
              "      <th>DIV3_TOTAL_GTIME</th>\n",
              "      <th>DIV3_LONGEST_GTIME</th>\n",
              "      <th>DIV3_WHEELS_OFF</th>\n",
              "      <th>DIV3_TAIL_NUM</th>\n",
              "      <th>DIV4_AIRPORT</th>\n",
              "      <th>DIV4_AIRPORT_ID</th>\n",
              "      <th>DIV4_AIRPORT_SEQ_ID</th>\n",
              "      <th>DIV4_WHEELS_ON</th>\n",
              "      <th>DIV4_TOTAL_GTIME</th>\n",
              "      <th>DIV4_LONGEST_GTIME</th>\n",
              "      <th>DIV4_WHEELS_OFF</th>\n",
              "      <th>DIV4_TAIL_NUM</th>\n",
              "      <th>DIV5_AIRPORT</th>\n",
              "      <th>DIV5_AIRPORT_ID</th>\n",
              "      <th>DIV5_AIRPORT_SEQ_ID</th>\n",
              "      <th>DIV5_WHEELS_ON</th>\n",
              "      <th>DIV5_TOTAL_GTIME</th>\n",
              "      <th>DIV5_LONGEST_GTIME</th>\n",
              "      <th>DIV5_WHEELS_OFF</th>\n",
              "      <th>DIV5_TAIL_NUM</th>\n",
              "      <th>Unnamed: 109</th>\n",
              "    </tr>\n",
              "  </thead>\n",
              "  <tbody>\n",
              "    <tr>\n",
              "      <th>0</th>\n",
              "      <td>2018</td>\n",
              "      <td>2</td>\n",
              "      <td>5</td>\n",
              "      <td>1</td>\n",
              "      <td>2</td>\n",
              "      <td>2018-05-01</td>\n",
              "      <td>DL</td>\n",
              "      <td>19790</td>\n",
              "      <td>DL</td>\n",
              "      <td>N6709</td>\n",
              "      <td>15</td>\n",
              "      <td>10397</td>\n",
              "      <td>1039707</td>\n",
              "      <td>30397</td>\n",
              "      <td>ATL</td>\n",
              "      <td>Atlanta, GA</td>\n",
              "      <td>GA</td>\n",
              "      <td>13</td>\n",
              "      <td>Georgia</td>\n",
              "      <td>34</td>\n",
              "      <td>14869</td>\n",
              "      <td>1486903</td>\n",
              "      <td>34614</td>\n",
              "      <td>SLC</td>\n",
              "      <td>Salt Lake City, UT</td>\n",
              "      <td>UT</td>\n",
              "      <td>49</td>\n",
              "      <td>Utah</td>\n",
              "      <td>87</td>\n",
              "      <td>1920</td>\n",
              "      <td>1919.0</td>\n",
              "      <td>-1.0</td>\n",
              "      <td>0.0</td>\n",
              "      <td>0.0</td>\n",
              "      <td>-1.0</td>\n",
              "      <td>1900-1959</td>\n",
              "      <td>15.0</td>\n",
              "      <td>1934.0</td>\n",
              "      <td>2113.0</td>\n",
              "      <td>4.0</td>\n",
              "      <td>...</td>\n",
              "      <td>NaN</td>\n",
              "      <td>NaN</td>\n",
              "      <td>NaN</td>\n",
              "      <td>NaN</td>\n",
              "      <td>NaN</td>\n",
              "      <td>NaN</td>\n",
              "      <td>NaN</td>\n",
              "      <td>NaN</td>\n",
              "      <td>NaN</td>\n",
              "      <td>NaN</td>\n",
              "      <td>NaN</td>\n",
              "      <td>NaN</td>\n",
              "      <td>NaN</td>\n",
              "      <td>NaN</td>\n",
              "      <td>NaN</td>\n",
              "      <td>NaN</td>\n",
              "      <td>NaN</td>\n",
              "      <td>NaN</td>\n",
              "      <td>NaN</td>\n",
              "      <td>NaN</td>\n",
              "      <td>NaN</td>\n",
              "      <td>NaN</td>\n",
              "      <td>NaN</td>\n",
              "      <td>NaN</td>\n",
              "      <td>NaN</td>\n",
              "      <td>NaN</td>\n",
              "      <td>NaN</td>\n",
              "      <td>NaN</td>\n",
              "      <td>NaN</td>\n",
              "      <td>NaN</td>\n",
              "      <td>NaN</td>\n",
              "      <td>NaN</td>\n",
              "      <td>NaN</td>\n",
              "      <td>NaN</td>\n",
              "      <td>NaN</td>\n",
              "      <td>NaN</td>\n",
              "      <td>NaN</td>\n",
              "      <td>NaN</td>\n",
              "      <td>NaN</td>\n",
              "      <td>NaN</td>\n",
              "    </tr>\n",
              "    <tr>\n",
              "      <th>1</th>\n",
              "      <td>2018</td>\n",
              "      <td>2</td>\n",
              "      <td>5</td>\n",
              "      <td>1</td>\n",
              "      <td>2</td>\n",
              "      <td>2018-05-01</td>\n",
              "      <td>DL</td>\n",
              "      <td>19790</td>\n",
              "      <td>DL</td>\n",
              "      <td>N820DN</td>\n",
              "      <td>16</td>\n",
              "      <td>12889</td>\n",
              "      <td>1288903</td>\n",
              "      <td>32211</td>\n",
              "      <td>LAS</td>\n",
              "      <td>Las Vegas, NV</td>\n",
              "      <td>NV</td>\n",
              "      <td>32</td>\n",
              "      <td>Nevada</td>\n",
              "      <td>85</td>\n",
              "      <td>11433</td>\n",
              "      <td>1143302</td>\n",
              "      <td>31295</td>\n",
              "      <td>DTW</td>\n",
              "      <td>Detroit, MI</td>\n",
              "      <td>MI</td>\n",
              "      <td>26</td>\n",
              "      <td>Michigan</td>\n",
              "      <td>43</td>\n",
              "      <td>1400</td>\n",
              "      <td>1407.0</td>\n",
              "      <td>7.0</td>\n",
              "      <td>7.0</td>\n",
              "      <td>0.0</td>\n",
              "      <td>0.0</td>\n",
              "      <td>1400-1459</td>\n",
              "      <td>21.0</td>\n",
              "      <td>1428.0</td>\n",
              "      <td>2052.0</td>\n",
              "      <td>8.0</td>\n",
              "      <td>...</td>\n",
              "      <td>NaN</td>\n",
              "      <td>NaN</td>\n",
              "      <td>NaN</td>\n",
              "      <td>NaN</td>\n",
              "      <td>NaN</td>\n",
              "      <td>NaN</td>\n",
              "      <td>NaN</td>\n",
              "      <td>NaN</td>\n",
              "      <td>NaN</td>\n",
              "      <td>NaN</td>\n",
              "      <td>NaN</td>\n",
              "      <td>NaN</td>\n",
              "      <td>NaN</td>\n",
              "      <td>NaN</td>\n",
              "      <td>NaN</td>\n",
              "      <td>NaN</td>\n",
              "      <td>NaN</td>\n",
              "      <td>NaN</td>\n",
              "      <td>NaN</td>\n",
              "      <td>NaN</td>\n",
              "      <td>NaN</td>\n",
              "      <td>NaN</td>\n",
              "      <td>NaN</td>\n",
              "      <td>NaN</td>\n",
              "      <td>NaN</td>\n",
              "      <td>NaN</td>\n",
              "      <td>NaN</td>\n",
              "      <td>NaN</td>\n",
              "      <td>NaN</td>\n",
              "      <td>NaN</td>\n",
              "      <td>NaN</td>\n",
              "      <td>NaN</td>\n",
              "      <td>NaN</td>\n",
              "      <td>NaN</td>\n",
              "      <td>NaN</td>\n",
              "      <td>NaN</td>\n",
              "      <td>NaN</td>\n",
              "      <td>NaN</td>\n",
              "      <td>NaN</td>\n",
              "      <td>NaN</td>\n",
              "    </tr>\n",
              "    <tr>\n",
              "      <th>2</th>\n",
              "      <td>2018</td>\n",
              "      <td>2</td>\n",
              "      <td>5</td>\n",
              "      <td>1</td>\n",
              "      <td>2</td>\n",
              "      <td>2018-05-01</td>\n",
              "      <td>DL</td>\n",
              "      <td>19790</td>\n",
              "      <td>DL</td>\n",
              "      <td>N856DN</td>\n",
              "      <td>17</td>\n",
              "      <td>11433</td>\n",
              "      <td>1143302</td>\n",
              "      <td>31295</td>\n",
              "      <td>DTW</td>\n",
              "      <td>Detroit, MI</td>\n",
              "      <td>MI</td>\n",
              "      <td>26</td>\n",
              "      <td>Michigan</td>\n",
              "      <td>43</td>\n",
              "      <td>12889</td>\n",
              "      <td>1288903</td>\n",
              "      <td>32211</td>\n",
              "      <td>LAS</td>\n",
              "      <td>Las Vegas, NV</td>\n",
              "      <td>NV</td>\n",
              "      <td>32</td>\n",
              "      <td>Nevada</td>\n",
              "      <td>85</td>\n",
              "      <td>1757</td>\n",
              "      <td>1753.0</td>\n",
              "      <td>-4.0</td>\n",
              "      <td>0.0</td>\n",
              "      <td>0.0</td>\n",
              "      <td>-1.0</td>\n",
              "      <td>1700-1759</td>\n",
              "      <td>19.0</td>\n",
              "      <td>1812.0</td>\n",
              "      <td>1932.0</td>\n",
              "      <td>6.0</td>\n",
              "      <td>...</td>\n",
              "      <td>NaN</td>\n",
              "      <td>NaN</td>\n",
              "      <td>NaN</td>\n",
              "      <td>NaN</td>\n",
              "      <td>NaN</td>\n",
              "      <td>NaN</td>\n",
              "      <td>NaN</td>\n",
              "      <td>NaN</td>\n",
              "      <td>NaN</td>\n",
              "      <td>NaN</td>\n",
              "      <td>NaN</td>\n",
              "      <td>NaN</td>\n",
              "      <td>NaN</td>\n",
              "      <td>NaN</td>\n",
              "      <td>NaN</td>\n",
              "      <td>NaN</td>\n",
              "      <td>NaN</td>\n",
              "      <td>NaN</td>\n",
              "      <td>NaN</td>\n",
              "      <td>NaN</td>\n",
              "      <td>NaN</td>\n",
              "      <td>NaN</td>\n",
              "      <td>NaN</td>\n",
              "      <td>NaN</td>\n",
              "      <td>NaN</td>\n",
              "      <td>NaN</td>\n",
              "      <td>NaN</td>\n",
              "      <td>NaN</td>\n",
              "      <td>NaN</td>\n",
              "      <td>NaN</td>\n",
              "      <td>NaN</td>\n",
              "      <td>NaN</td>\n",
              "      <td>NaN</td>\n",
              "      <td>NaN</td>\n",
              "      <td>NaN</td>\n",
              "      <td>NaN</td>\n",
              "      <td>NaN</td>\n",
              "      <td>NaN</td>\n",
              "      <td>NaN</td>\n",
              "      <td>NaN</td>\n",
              "    </tr>\n",
              "    <tr>\n",
              "      <th>3</th>\n",
              "      <td>2018</td>\n",
              "      <td>2</td>\n",
              "      <td>5</td>\n",
              "      <td>1</td>\n",
              "      <td>2</td>\n",
              "      <td>2018-05-01</td>\n",
              "      <td>DL</td>\n",
              "      <td>19790</td>\n",
              "      <td>DL</td>\n",
              "      <td>N329NB</td>\n",
              "      <td>22</td>\n",
              "      <td>13487</td>\n",
              "      <td>1348702</td>\n",
              "      <td>31650</td>\n",
              "      <td>MSP</td>\n",
              "      <td>Minneapolis, MN</td>\n",
              "      <td>MN</td>\n",
              "      <td>27</td>\n",
              "      <td>Minnesota</td>\n",
              "      <td>63</td>\n",
              "      <td>11433</td>\n",
              "      <td>1143302</td>\n",
              "      <td>31295</td>\n",
              "      <td>DTW</td>\n",
              "      <td>Detroit, MI</td>\n",
              "      <td>MI</td>\n",
              "      <td>26</td>\n",
              "      <td>Michigan</td>\n",
              "      <td>43</td>\n",
              "      <td>1335</td>\n",
              "      <td>1329.0</td>\n",
              "      <td>-6.0</td>\n",
              "      <td>0.0</td>\n",
              "      <td>0.0</td>\n",
              "      <td>-1.0</td>\n",
              "      <td>1300-1359</td>\n",
              "      <td>14.0</td>\n",
              "      <td>1343.0</td>\n",
              "      <td>1554.0</td>\n",
              "      <td>8.0</td>\n",
              "      <td>...</td>\n",
              "      <td>NaN</td>\n",
              "      <td>NaN</td>\n",
              "      <td>NaN</td>\n",
              "      <td>NaN</td>\n",
              "      <td>NaN</td>\n",
              "      <td>NaN</td>\n",
              "      <td>NaN</td>\n",
              "      <td>NaN</td>\n",
              "      <td>NaN</td>\n",
              "      <td>NaN</td>\n",
              "      <td>NaN</td>\n",
              "      <td>NaN</td>\n",
              "      <td>NaN</td>\n",
              "      <td>NaN</td>\n",
              "      <td>NaN</td>\n",
              "      <td>NaN</td>\n",
              "      <td>NaN</td>\n",
              "      <td>NaN</td>\n",
              "      <td>NaN</td>\n",
              "      <td>NaN</td>\n",
              "      <td>NaN</td>\n",
              "      <td>NaN</td>\n",
              "      <td>NaN</td>\n",
              "      <td>NaN</td>\n",
              "      <td>NaN</td>\n",
              "      <td>NaN</td>\n",
              "      <td>NaN</td>\n",
              "      <td>NaN</td>\n",
              "      <td>NaN</td>\n",
              "      <td>NaN</td>\n",
              "      <td>NaN</td>\n",
              "      <td>NaN</td>\n",
              "      <td>NaN</td>\n",
              "      <td>NaN</td>\n",
              "      <td>NaN</td>\n",
              "      <td>NaN</td>\n",
              "      <td>NaN</td>\n",
              "      <td>NaN</td>\n",
              "      <td>NaN</td>\n",
              "      <td>NaN</td>\n",
              "    </tr>\n",
              "    <tr>\n",
              "      <th>4</th>\n",
              "      <td>2018</td>\n",
              "      <td>2</td>\n",
              "      <td>5</td>\n",
              "      <td>1</td>\n",
              "      <td>2</td>\n",
              "      <td>2018-05-01</td>\n",
              "      <td>DL</td>\n",
              "      <td>19790</td>\n",
              "      <td>DL</td>\n",
              "      <td>N697DL</td>\n",
              "      <td>23</td>\n",
              "      <td>11433</td>\n",
              "      <td>1143302</td>\n",
              "      <td>31295</td>\n",
              "      <td>DTW</td>\n",
              "      <td>Detroit, MI</td>\n",
              "      <td>MI</td>\n",
              "      <td>26</td>\n",
              "      <td>Michigan</td>\n",
              "      <td>43</td>\n",
              "      <td>13487</td>\n",
              "      <td>1348702</td>\n",
              "      <td>31650</td>\n",
              "      <td>MSP</td>\n",
              "      <td>Minneapolis, MN</td>\n",
              "      <td>MN</td>\n",
              "      <td>27</td>\n",
              "      <td>Minnesota</td>\n",
              "      <td>63</td>\n",
              "      <td>1556</td>\n",
              "      <td>1602.0</td>\n",
              "      <td>6.0</td>\n",
              "      <td>6.0</td>\n",
              "      <td>0.0</td>\n",
              "      <td>0.0</td>\n",
              "      <td>1500-1559</td>\n",
              "      <td>21.0</td>\n",
              "      <td>1623.0</td>\n",
              "      <td>1647.0</td>\n",
              "      <td>9.0</td>\n",
              "      <td>...</td>\n",
              "      <td>NaN</td>\n",
              "      <td>NaN</td>\n",
              "      <td>NaN</td>\n",
              "      <td>NaN</td>\n",
              "      <td>NaN</td>\n",
              "      <td>NaN</td>\n",
              "      <td>NaN</td>\n",
              "      <td>NaN</td>\n",
              "      <td>NaN</td>\n",
              "      <td>NaN</td>\n",
              "      <td>NaN</td>\n",
              "      <td>NaN</td>\n",
              "      <td>NaN</td>\n",
              "      <td>NaN</td>\n",
              "      <td>NaN</td>\n",
              "      <td>NaN</td>\n",
              "      <td>NaN</td>\n",
              "      <td>NaN</td>\n",
              "      <td>NaN</td>\n",
              "      <td>NaN</td>\n",
              "      <td>NaN</td>\n",
              "      <td>NaN</td>\n",
              "      <td>NaN</td>\n",
              "      <td>NaN</td>\n",
              "      <td>NaN</td>\n",
              "      <td>NaN</td>\n",
              "      <td>NaN</td>\n",
              "      <td>NaN</td>\n",
              "      <td>NaN</td>\n",
              "      <td>NaN</td>\n",
              "      <td>NaN</td>\n",
              "      <td>NaN</td>\n",
              "      <td>NaN</td>\n",
              "      <td>NaN</td>\n",
              "      <td>NaN</td>\n",
              "      <td>NaN</td>\n",
              "      <td>NaN</td>\n",
              "      <td>NaN</td>\n",
              "      <td>NaN</td>\n",
              "      <td>NaN</td>\n",
              "    </tr>\n",
              "    <tr>\n",
              "      <th>...</th>\n",
              "      <td>...</td>\n",
              "      <td>...</td>\n",
              "      <td>...</td>\n",
              "      <td>...</td>\n",
              "      <td>...</td>\n",
              "      <td>...</td>\n",
              "      <td>...</td>\n",
              "      <td>...</td>\n",
              "      <td>...</td>\n",
              "      <td>...</td>\n",
              "      <td>...</td>\n",
              "      <td>...</td>\n",
              "      <td>...</td>\n",
              "      <td>...</td>\n",
              "      <td>...</td>\n",
              "      <td>...</td>\n",
              "      <td>...</td>\n",
              "      <td>...</td>\n",
              "      <td>...</td>\n",
              "      <td>...</td>\n",
              "      <td>...</td>\n",
              "      <td>...</td>\n",
              "      <td>...</td>\n",
              "      <td>...</td>\n",
              "      <td>...</td>\n",
              "      <td>...</td>\n",
              "      <td>...</td>\n",
              "      <td>...</td>\n",
              "      <td>...</td>\n",
              "      <td>...</td>\n",
              "      <td>...</td>\n",
              "      <td>...</td>\n",
              "      <td>...</td>\n",
              "      <td>...</td>\n",
              "      <td>...</td>\n",
              "      <td>...</td>\n",
              "      <td>...</td>\n",
              "      <td>...</td>\n",
              "      <td>...</td>\n",
              "      <td>...</td>\n",
              "      <td>...</td>\n",
              "      <td>...</td>\n",
              "      <td>...</td>\n",
              "      <td>...</td>\n",
              "      <td>...</td>\n",
              "      <td>...</td>\n",
              "      <td>...</td>\n",
              "      <td>...</td>\n",
              "      <td>...</td>\n",
              "      <td>...</td>\n",
              "      <td>...</td>\n",
              "      <td>...</td>\n",
              "      <td>...</td>\n",
              "      <td>...</td>\n",
              "      <td>...</td>\n",
              "      <td>...</td>\n",
              "      <td>...</td>\n",
              "      <td>...</td>\n",
              "      <td>...</td>\n",
              "      <td>...</td>\n",
              "      <td>...</td>\n",
              "      <td>...</td>\n",
              "      <td>...</td>\n",
              "      <td>...</td>\n",
              "      <td>...</td>\n",
              "      <td>...</td>\n",
              "      <td>...</td>\n",
              "      <td>...</td>\n",
              "      <td>...</td>\n",
              "      <td>...</td>\n",
              "      <td>...</td>\n",
              "      <td>...</td>\n",
              "      <td>...</td>\n",
              "      <td>...</td>\n",
              "      <td>...</td>\n",
              "      <td>...</td>\n",
              "      <td>...</td>\n",
              "      <td>...</td>\n",
              "      <td>...</td>\n",
              "      <td>...</td>\n",
              "      <td>...</td>\n",
              "    </tr>\n",
              "    <tr>\n",
              "      <th>616524</th>\n",
              "      <td>2018</td>\n",
              "      <td>2</td>\n",
              "      <td>5</td>\n",
              "      <td>17</td>\n",
              "      <td>4</td>\n",
              "      <td>2018-05-17</td>\n",
              "      <td>UA</td>\n",
              "      <td>19977</td>\n",
              "      <td>UA</td>\n",
              "      <td>N76502</td>\n",
              "      <td>1434</td>\n",
              "      <td>13198</td>\n",
              "      <td>1319801</td>\n",
              "      <td>33198</td>\n",
              "      <td>MCI</td>\n",
              "      <td>Kansas City, MO</td>\n",
              "      <td>MO</td>\n",
              "      <td>29</td>\n",
              "      <td>Missouri</td>\n",
              "      <td>64</td>\n",
              "      <td>12266</td>\n",
              "      <td>1226603</td>\n",
              "      <td>31453</td>\n",
              "      <td>IAH</td>\n",
              "      <td>Houston, TX</td>\n",
              "      <td>TX</td>\n",
              "      <td>48</td>\n",
              "      <td>Texas</td>\n",
              "      <td>74</td>\n",
              "      <td>625</td>\n",
              "      <td>617.0</td>\n",
              "      <td>-8.0</td>\n",
              "      <td>0.0</td>\n",
              "      <td>0.0</td>\n",
              "      <td>-1.0</td>\n",
              "      <td>0600-0659</td>\n",
              "      <td>11.0</td>\n",
              "      <td>628.0</td>\n",
              "      <td>758.0</td>\n",
              "      <td>11.0</td>\n",
              "      <td>...</td>\n",
              "      <td>NaN</td>\n",
              "      <td>NaN</td>\n",
              "      <td>NaN</td>\n",
              "      <td>NaN</td>\n",
              "      <td>NaN</td>\n",
              "      <td>NaN</td>\n",
              "      <td>NaN</td>\n",
              "      <td>NaN</td>\n",
              "      <td>NaN</td>\n",
              "      <td>NaN</td>\n",
              "      <td>NaN</td>\n",
              "      <td>NaN</td>\n",
              "      <td>NaN</td>\n",
              "      <td>NaN</td>\n",
              "      <td>NaN</td>\n",
              "      <td>NaN</td>\n",
              "      <td>NaN</td>\n",
              "      <td>NaN</td>\n",
              "      <td>NaN</td>\n",
              "      <td>NaN</td>\n",
              "      <td>NaN</td>\n",
              "      <td>NaN</td>\n",
              "      <td>NaN</td>\n",
              "      <td>NaN</td>\n",
              "      <td>NaN</td>\n",
              "      <td>NaN</td>\n",
              "      <td>NaN</td>\n",
              "      <td>NaN</td>\n",
              "      <td>NaN</td>\n",
              "      <td>NaN</td>\n",
              "      <td>NaN</td>\n",
              "      <td>NaN</td>\n",
              "      <td>NaN</td>\n",
              "      <td>NaN</td>\n",
              "      <td>NaN</td>\n",
              "      <td>NaN</td>\n",
              "      <td>NaN</td>\n",
              "      <td>NaN</td>\n",
              "      <td>NaN</td>\n",
              "      <td>NaN</td>\n",
              "    </tr>\n",
              "    <tr>\n",
              "      <th>616525</th>\n",
              "      <td>2018</td>\n",
              "      <td>2</td>\n",
              "      <td>5</td>\n",
              "      <td>17</td>\n",
              "      <td>4</td>\n",
              "      <td>2018-05-17</td>\n",
              "      <td>UA</td>\n",
              "      <td>19977</td>\n",
              "      <td>UA</td>\n",
              "      <td>N73860</td>\n",
              "      <td>1431</td>\n",
              "      <td>12892</td>\n",
              "      <td>1289208</td>\n",
              "      <td>32575</td>\n",
              "      <td>LAX</td>\n",
              "      <td>Los Angeles, CA</td>\n",
              "      <td>CA</td>\n",
              "      <td>6</td>\n",
              "      <td>California</td>\n",
              "      <td>91</td>\n",
              "      <td>12173</td>\n",
              "      <td>1217305</td>\n",
              "      <td>32134</td>\n",
              "      <td>HNL</td>\n",
              "      <td>Honolulu, HI</td>\n",
              "      <td>HI</td>\n",
              "      <td>15</td>\n",
              "      <td>Hawaii</td>\n",
              "      <td>2</td>\n",
              "      <td>1407</td>\n",
              "      <td>1409.0</td>\n",
              "      <td>2.0</td>\n",
              "      <td>2.0</td>\n",
              "      <td>0.0</td>\n",
              "      <td>0.0</td>\n",
              "      <td>1400-1459</td>\n",
              "      <td>17.0</td>\n",
              "      <td>1426.0</td>\n",
              "      <td>1649.0</td>\n",
              "      <td>5.0</td>\n",
              "      <td>...</td>\n",
              "      <td>NaN</td>\n",
              "      <td>NaN</td>\n",
              "      <td>NaN</td>\n",
              "      <td>NaN</td>\n",
              "      <td>NaN</td>\n",
              "      <td>NaN</td>\n",
              "      <td>NaN</td>\n",
              "      <td>NaN</td>\n",
              "      <td>NaN</td>\n",
              "      <td>NaN</td>\n",
              "      <td>NaN</td>\n",
              "      <td>NaN</td>\n",
              "      <td>NaN</td>\n",
              "      <td>NaN</td>\n",
              "      <td>NaN</td>\n",
              "      <td>NaN</td>\n",
              "      <td>NaN</td>\n",
              "      <td>NaN</td>\n",
              "      <td>NaN</td>\n",
              "      <td>NaN</td>\n",
              "      <td>NaN</td>\n",
              "      <td>NaN</td>\n",
              "      <td>NaN</td>\n",
              "      <td>NaN</td>\n",
              "      <td>NaN</td>\n",
              "      <td>NaN</td>\n",
              "      <td>NaN</td>\n",
              "      <td>NaN</td>\n",
              "      <td>NaN</td>\n",
              "      <td>NaN</td>\n",
              "      <td>NaN</td>\n",
              "      <td>NaN</td>\n",
              "      <td>NaN</td>\n",
              "      <td>NaN</td>\n",
              "      <td>NaN</td>\n",
              "      <td>NaN</td>\n",
              "      <td>NaN</td>\n",
              "      <td>NaN</td>\n",
              "      <td>NaN</td>\n",
              "      <td>NaN</td>\n",
              "    </tr>\n",
              "    <tr>\n",
              "      <th>616526</th>\n",
              "      <td>2018</td>\n",
              "      <td>2</td>\n",
              "      <td>5</td>\n",
              "      <td>17</td>\n",
              "      <td>4</td>\n",
              "      <td>2018-05-17</td>\n",
              "      <td>UA</td>\n",
              "      <td>19977</td>\n",
              "      <td>UA</td>\n",
              "      <td>N48127</td>\n",
              "      <td>1430</td>\n",
              "      <td>13830</td>\n",
              "      <td>1383002</td>\n",
              "      <td>33830</td>\n",
              "      <td>OGG</td>\n",
              "      <td>Kahului, HI</td>\n",
              "      <td>HI</td>\n",
              "      <td>15</td>\n",
              "      <td>Hawaii</td>\n",
              "      <td>2</td>\n",
              "      <td>11292</td>\n",
              "      <td>1129202</td>\n",
              "      <td>30325</td>\n",
              "      <td>DEN</td>\n",
              "      <td>Denver, CO</td>\n",
              "      <td>CO</td>\n",
              "      <td>8</td>\n",
              "      <td>Colorado</td>\n",
              "      <td>82</td>\n",
              "      <td>2025</td>\n",
              "      <td>2018.0</td>\n",
              "      <td>-7.0</td>\n",
              "      <td>0.0</td>\n",
              "      <td>0.0</td>\n",
              "      <td>-1.0</td>\n",
              "      <td>2000-2059</td>\n",
              "      <td>23.0</td>\n",
              "      <td>2041.0</td>\n",
              "      <td>651.0</td>\n",
              "      <td>11.0</td>\n",
              "      <td>...</td>\n",
              "      <td>NaN</td>\n",
              "      <td>NaN</td>\n",
              "      <td>NaN</td>\n",
              "      <td>NaN</td>\n",
              "      <td>NaN</td>\n",
              "      <td>NaN</td>\n",
              "      <td>NaN</td>\n",
              "      <td>NaN</td>\n",
              "      <td>NaN</td>\n",
              "      <td>NaN</td>\n",
              "      <td>NaN</td>\n",
              "      <td>NaN</td>\n",
              "      <td>NaN</td>\n",
              "      <td>NaN</td>\n",
              "      <td>NaN</td>\n",
              "      <td>NaN</td>\n",
              "      <td>NaN</td>\n",
              "      <td>NaN</td>\n",
              "      <td>NaN</td>\n",
              "      <td>NaN</td>\n",
              "      <td>NaN</td>\n",
              "      <td>NaN</td>\n",
              "      <td>NaN</td>\n",
              "      <td>NaN</td>\n",
              "      <td>NaN</td>\n",
              "      <td>NaN</td>\n",
              "      <td>NaN</td>\n",
              "      <td>NaN</td>\n",
              "      <td>NaN</td>\n",
              "      <td>NaN</td>\n",
              "      <td>NaN</td>\n",
              "      <td>NaN</td>\n",
              "      <td>NaN</td>\n",
              "      <td>NaN</td>\n",
              "      <td>NaN</td>\n",
              "      <td>NaN</td>\n",
              "      <td>NaN</td>\n",
              "      <td>NaN</td>\n",
              "      <td>NaN</td>\n",
              "      <td>NaN</td>\n",
              "    </tr>\n",
              "    <tr>\n",
              "      <th>616527</th>\n",
              "      <td>2018</td>\n",
              "      <td>2</td>\n",
              "      <td>5</td>\n",
              "      <td>17</td>\n",
              "      <td>4</td>\n",
              "      <td>2018-05-17</td>\n",
              "      <td>UA</td>\n",
              "      <td>19977</td>\n",
              "      <td>UA</td>\n",
              "      <td>N822UA</td>\n",
              "      <td>1429</td>\n",
              "      <td>12266</td>\n",
              "      <td>1226603</td>\n",
              "      <td>31453</td>\n",
              "      <td>IAH</td>\n",
              "      <td>Houston, TX</td>\n",
              "      <td>TX</td>\n",
              "      <td>48</td>\n",
              "      <td>Texas</td>\n",
              "      <td>74</td>\n",
              "      <td>10423</td>\n",
              "      <td>1042302</td>\n",
              "      <td>30423</td>\n",
              "      <td>AUS</td>\n",
              "      <td>Austin, TX</td>\n",
              "      <td>TX</td>\n",
              "      <td>48</td>\n",
              "      <td>Texas</td>\n",
              "      <td>74</td>\n",
              "      <td>1620</td>\n",
              "      <td>1611.0</td>\n",
              "      <td>-9.0</td>\n",
              "      <td>0.0</td>\n",
              "      <td>0.0</td>\n",
              "      <td>-1.0</td>\n",
              "      <td>1600-1659</td>\n",
              "      <td>21.0</td>\n",
              "      <td>1632.0</td>\n",
              "      <td>1700.0</td>\n",
              "      <td>5.0</td>\n",
              "      <td>...</td>\n",
              "      <td>NaN</td>\n",
              "      <td>NaN</td>\n",
              "      <td>NaN</td>\n",
              "      <td>NaN</td>\n",
              "      <td>NaN</td>\n",
              "      <td>NaN</td>\n",
              "      <td>NaN</td>\n",
              "      <td>NaN</td>\n",
              "      <td>NaN</td>\n",
              "      <td>NaN</td>\n",
              "      <td>NaN</td>\n",
              "      <td>NaN</td>\n",
              "      <td>NaN</td>\n",
              "      <td>NaN</td>\n",
              "      <td>NaN</td>\n",
              "      <td>NaN</td>\n",
              "      <td>NaN</td>\n",
              "      <td>NaN</td>\n",
              "      <td>NaN</td>\n",
              "      <td>NaN</td>\n",
              "      <td>NaN</td>\n",
              "      <td>NaN</td>\n",
              "      <td>NaN</td>\n",
              "      <td>NaN</td>\n",
              "      <td>NaN</td>\n",
              "      <td>NaN</td>\n",
              "      <td>NaN</td>\n",
              "      <td>NaN</td>\n",
              "      <td>NaN</td>\n",
              "      <td>NaN</td>\n",
              "      <td>NaN</td>\n",
              "      <td>NaN</td>\n",
              "      <td>NaN</td>\n",
              "      <td>NaN</td>\n",
              "      <td>NaN</td>\n",
              "      <td>NaN</td>\n",
              "      <td>NaN</td>\n",
              "      <td>NaN</td>\n",
              "      <td>NaN</td>\n",
              "      <td>NaN</td>\n",
              "    </tr>\n",
              "    <tr>\n",
              "      <th>616528</th>\n",
              "      <td>2018</td>\n",
              "      <td>2</td>\n",
              "      <td>5</td>\n",
              "      <td>17</td>\n",
              "      <td>4</td>\n",
              "      <td>2018-05-17</td>\n",
              "      <td>UA</td>\n",
              "      <td>19977</td>\n",
              "      <td>UA</td>\n",
              "      <td>N27734</td>\n",
              "      <td>1428</td>\n",
              "      <td>11618</td>\n",
              "      <td>1161802</td>\n",
              "      <td>31703</td>\n",
              "      <td>EWR</td>\n",
              "      <td>Newark, NJ</td>\n",
              "      <td>NJ</td>\n",
              "      <td>34</td>\n",
              "      <td>New Jersey</td>\n",
              "      <td>21</td>\n",
              "      <td>14027</td>\n",
              "      <td>1402702</td>\n",
              "      <td>34027</td>\n",
              "      <td>PBI</td>\n",
              "      <td>West Palm Beach/Palm Beach, FL</td>\n",
              "      <td>FL</td>\n",
              "      <td>12</td>\n",
              "      <td>Florida</td>\n",
              "      <td>33</td>\n",
              "      <td>600</td>\n",
              "      <td>555.0</td>\n",
              "      <td>-5.0</td>\n",
              "      <td>0.0</td>\n",
              "      <td>0.0</td>\n",
              "      <td>-1.0</td>\n",
              "      <td>0600-0659</td>\n",
              "      <td>30.0</td>\n",
              "      <td>625.0</td>\n",
              "      <td>853.0</td>\n",
              "      <td>3.0</td>\n",
              "      <td>...</td>\n",
              "      <td>NaN</td>\n",
              "      <td>NaN</td>\n",
              "      <td>NaN</td>\n",
              "      <td>NaN</td>\n",
              "      <td>NaN</td>\n",
              "      <td>NaN</td>\n",
              "      <td>NaN</td>\n",
              "      <td>NaN</td>\n",
              "      <td>NaN</td>\n",
              "      <td>NaN</td>\n",
              "      <td>NaN</td>\n",
              "      <td>NaN</td>\n",
              "      <td>NaN</td>\n",
              "      <td>NaN</td>\n",
              "      <td>NaN</td>\n",
              "      <td>NaN</td>\n",
              "      <td>NaN</td>\n",
              "      <td>NaN</td>\n",
              "      <td>NaN</td>\n",
              "      <td>NaN</td>\n",
              "      <td>NaN</td>\n",
              "      <td>NaN</td>\n",
              "      <td>NaN</td>\n",
              "      <td>NaN</td>\n",
              "      <td>NaN</td>\n",
              "      <td>NaN</td>\n",
              "      <td>NaN</td>\n",
              "      <td>NaN</td>\n",
              "      <td>NaN</td>\n",
              "      <td>NaN</td>\n",
              "      <td>NaN</td>\n",
              "      <td>NaN</td>\n",
              "      <td>NaN</td>\n",
              "      <td>NaN</td>\n",
              "      <td>NaN</td>\n",
              "      <td>NaN</td>\n",
              "      <td>NaN</td>\n",
              "      <td>NaN</td>\n",
              "      <td>NaN</td>\n",
              "      <td>NaN</td>\n",
              "    </tr>\n",
              "  </tbody>\n",
              "</table>\n",
              "<p>616529 rows × 110 columns</p>\n",
              "</div>"
            ],
            "text/plain": [
              "        YEAR  QUARTER  MONTH  ...  DIV5_WHEELS_OFF  DIV5_TAIL_NUM Unnamed: 109\n",
              "0       2018        2      5  ...              NaN            NaN          NaN\n",
              "1       2018        2      5  ...              NaN            NaN          NaN\n",
              "2       2018        2      5  ...              NaN            NaN          NaN\n",
              "3       2018        2      5  ...              NaN            NaN          NaN\n",
              "4       2018        2      5  ...              NaN            NaN          NaN\n",
              "...      ...      ...    ...  ...              ...            ...          ...\n",
              "616524  2018        2      5  ...              NaN            NaN          NaN\n",
              "616525  2018        2      5  ...              NaN            NaN          NaN\n",
              "616526  2018        2      5  ...              NaN            NaN          NaN\n",
              "616527  2018        2      5  ...              NaN            NaN          NaN\n",
              "616528  2018        2      5  ...              NaN            NaN          NaN\n",
              "\n",
              "[616529 rows x 110 columns]"
            ]
          },
          "metadata": {},
          "execution_count": 17
        }
      ]
    },
    {
      "cell_type": "markdown",
      "metadata": {
        "collapsed": false,
        "pycharm": {
          "name": "#%% md\n"
        },
        "id": "9r_PrboBmnuE"
      },
      "source": [
        "미국 공항 개수, 항로의 수"
      ]
    },
    {
      "cell_type": "code",
      "metadata": {
        "pycharm": {
          "name": "#%%\n"
        },
        "colab": {
          "base_uri": "https://localhost:8080/"
        },
        "id": "DD9qkb-ZmnuE",
        "outputId": "d21845a8-d288-4f40-8da3-9714d50df88f"
      },
      "source": [
        "G.number_of_nodes()"
      ],
      "execution_count": null,
      "outputs": [
        {
          "output_type": "execute_result",
          "data": {
            "text/plain": [
              "341"
            ]
          },
          "metadata": {},
          "execution_count": 18
        }
      ]
    },
    {
      "cell_type": "code",
      "metadata": {
        "pycharm": {
          "name": "#%%\n"
        },
        "colab": {
          "base_uri": "https://localhost:8080/"
        },
        "id": "f4s5cLvcmnuE",
        "outputId": "382c3b91-9381-4a57-bb43-add93ffd543e"
      },
      "source": [
        "G.number_of_edges()"
      ],
      "execution_count": null,
      "outputs": [
        {
          "output_type": "execute_result",
          "data": {
            "text/plain": [
              "5339"
            ]
          },
          "metadata": {},
          "execution_count": 19
        }
      ]
    },
    {
      "cell_type": "markdown",
      "metadata": {
        "collapsed": false,
        "pycharm": {
          "name": "#%% md\n"
        },
        "id": "0-QGeX_ZmnuE"
      },
      "source": [
        "## 최단거리 알고리즘\n",
        "최단거리 알고리즘은 다양한 방법들이 존재한다. 학습한 Dijkstra 이외에도, A*, Bellman-Ford, Floyd-Warshall, Yen's 등 다양한 알고리즘이 존재한다.\n",
        "https://networkx.org/documentation/stable//reference/algorithms/shortest_paths.html#\n",
        "참고하여 다음 문제를 해결하시오"
      ]
    },
    {
      "cell_type": "markdown",
      "metadata": {
        "collapsed": false,
        "pycharm": {
          "name": "#%% md\n"
        },
        "id": "_Mxb7g0rmnuF"
      },
      "source": [
        "## 문제 8-1: 최단거리 문제\n",
        "샌프란시스코 국제 공항(San Francisco International Airport)과 뉴욕의 존 F 케네디 국제 공항(John F Kennedy International Airport)사이에 직항(non-stop flight)이 있는지 찾으시오.\n",
        "힌트: 공항 코드를 사용하여, 두 공항 사이에 최단거리 경로 내 경유 공항이 있는지를 확인\n",
        "\n",
        "출력의 결과는 참고용입니다."
      ]
    },
    {
      "cell_type": "code",
      "metadata": {
        "pycharm": {
          "name": "#%%\n"
        },
        "id": "uS5_btjomnuF"
      },
      "source": [
        "# 샌프란시스코 국제 공항을 찾는 예제\n",
        "src = usa_airports[usa_airports.name.str.contains('San Francisco International Airport')]\n",
        "# 존 F 케네디 국제 공황을 찾는 예제\n",
        "dst = usa_airports[usa_airports.name.str.contains('John F Kennedy International Airport')]\n",
        "# 공항코드 검색\n",
        "# your code here"
      ],
      "execution_count": null,
      "outputs": []
    },
    {
      "cell_type": "code",
      "metadata": {
        "pycharm": {
          "name": "#%%\n"
        },
        "id": "F7pDvmRTmnuF"
      },
      "source": [
        "def has_nonstop_flight(graph, src, dst):\n",
        "  '''\n",
        "  두 공항 사이에 non-stop flight가 있는지 체크하는 함수\n",
        "  :param graph: trips 그래프\n",
        "  :param src: 출발 공항\n",
        "  :param dst: 목적 공항\n",
        "  :return: Boolean\n",
        "  '''\n",
        "  for i in graph.edges():\n",
        "    if i == (src.iloc[0,1],dst.iloc[0,1]):\n",
        "      return True\n",
        "  return False"
      ],
      "execution_count": null,
      "outputs": []
    },
    {
      "cell_type": "code",
      "metadata": {
        "pycharm": {
          "name": "#%%\n"
        },
        "colab": {
          "base_uri": "https://localhost:8080/"
        },
        "id": "9ohcORp5mnuF",
        "outputId": "eec909a5-4afc-492d-dcc7-234e63d75d32"
      },
      "source": [
        "has_nonstop_flight(G, src, dst)"
      ],
      "execution_count": null,
      "outputs": [
        {
          "output_type": "execute_result",
          "data": {
            "text/plain": [
              "True"
            ]
          },
          "metadata": {},
          "execution_count": 22
        }
      ]
    },
    {
      "cell_type": "markdown",
      "metadata": {
        "collapsed": false,
        "pycharm": {
          "name": "#%% md\n"
        },
        "id": "2yHAx0GemnuF"
      },
      "source": [
        "## 문제 8-2: 주어진 공항들을 순서대로 경유하는 경로의 최단 거리(distance)를 계산하는 함수를 작성하시오\n",
        "\n",
        "다음 4개의 공항을 순서대로 경유하면 된다.(출발 시간은 고려하지 않는다)\n",
        "Los Angeles International Airport -> Hartsfield Jackson Atlanta International Airport -> Miami International Airport -> Washington Dulles International Airport\n"
      ]
    },
    {
      "cell_type": "code",
      "metadata": {
        "pycharm": {
          "name": "#%%\n"
        },
        "id": "S9hoBz6rmnuG"
      },
      "source": [
        "def shortest_path_length_from_airports(graph, airport_seq):\n",
        "  '''\n",
        "  주어진 공항의 시퀀스(sequence)로부터 최단경로의 거리를 계산하시오\n",
        "  :param graph: trips 그래프\n",
        "  :param airport_seq: 공항정보 (list형)\n",
        "  :return: 총 거리(distance) 값(float형)\n",
        "  '''\n",
        "  min=100000000000\n",
        "  sum = 0\n",
        "  k = 0\n",
        "  for i in airport_seq:\n",
        "    for j in graph.edges():\n",
        "      if k == len(airport_seq)-1:\n",
        "        break\n",
        "      if j == (airport_seq[k],airport_seq[k+1]):\n",
        "        if min> graph[j[0]][j[1]]['distance']:\n",
        "          min = graph[j[0]][j[1]]['distance']\n",
        "    if k == len(airport_seq)-1:\n",
        "      break\n",
        "    else:\n",
        "      sum = sum+min\n",
        "      min = 100000000000\n",
        "      k = k+1\n",
        "  return sum"
      ],
      "execution_count": null,
      "outputs": []
    },
    {
      "cell_type": "code",
      "metadata": {
        "pycharm": {
          "name": "#%%\n"
        },
        "colab": {
          "base_uri": "https://localhost:8080/"
        },
        "id": "K4vupUmgmnuG",
        "outputId": "10fedce4-0062-43af-9e71-ee37c1d49c8f"
      },
      "source": [
        "a = usa_airports[usa_airports.name.str.contains('Los Angeles International Airport')]\n",
        "b = usa_airports[usa_airports.name.str.contains('Hartsfield Jackson Atlanta International Airport')]\n",
        "c = usa_airports[usa_airports.name.str.contains('Miami International Airport')]\n",
        "d = usa_airports[usa_airports.name.str.contains('Washington Dulles International Airport')]\n",
        "seq = [a.iloc[0,1],b.iloc[0,1],c.iloc[0,1],d.iloc[0,1]]\n",
        "shortest_path_length_from_airports(G, seq)"
      ],
      "execution_count": null,
      "outputs": [
        {
          "output_type": "execute_result",
          "data": {
            "text/plain": [
              "3462.0"
            ]
          },
          "metadata": {},
          "execution_count": 51
        }
      ]
    },
    {
      "cell_type": "markdown",
      "metadata": {
        "collapsed": false,
        "pycharm": {
          "name": "#%% md\n"
        },
        "id": "QIWBp_oImnuG"
      },
      "source": [
        "## 문제 8-3: 단일 출발지 최단거리 찾기 (Single source shortest path)\n",
        "Los Angeles International Airport 국제 공항에서 직항(Non-stop)으로 이동할수 있는 공항 중에서 가장 가까운 공항과 가장 먼 공항을 반환하는 함수를 작성하시오"
      ]
    },
    {
      "cell_type": "code",
      "metadata": {
        "pycharm": {
          "name": "#%%\n"
        },
        "id": "3-pkkoz5mnuG"
      },
      "source": [
        "def get_farthest_or_shortest_airports_from(graph, src):\n",
        "  '''\n",
        "  가장 멀거나\n",
        "  :param graph: trips 그래프\n",
        "  :param src: 출발지\n",
        "  :return: ( farthest airport code, shortest airport code ) (tuple 형으로 반환)\n",
        "  '''\n",
        "  min = 1000000\n",
        "  max = 0\n",
        "  shortair=[]\n",
        "  farair=[]\n",
        "  for i in graph.edges():\n",
        "    if i[0] == src.iloc[0,1]:\n",
        "      if graph[i[0]][i[1]]['distance']>max:\n",
        "        max = graph[i[0]][i[1]]['distance']\n",
        "        farthest= i[1]\n",
        "      if graph[i[0]][i[1]]['distance']<min:\n",
        "        min = graph[i[0]][i[1]]['distance']\n",
        "        shortest = i[1]\n",
        "  for i in graph.edges():\n",
        "    if i[0] == src.iloc[0,1]:\n",
        "      if graph[i[0]][i[1]]['distance'] == max:\n",
        "        farair.append(i[1])\n",
        "      if graph[i[0]][i[1]]['distance'] == min:\n",
        "        shortair.append(i[1])\n",
        "  return (farair,shortair)"
      ],
      "execution_count": null,
      "outputs": []
    },
    {
      "cell_type": "code",
      "metadata": {
        "pycharm": {
          "name": "#%%\n"
        },
        "colab": {
          "base_uri": "https://localhost:8080/"
        },
        "id": "czl4aGAZmnuG",
        "outputId": "27e3edc3-03d2-4e92-b20d-5e3731b97f5c"
      },
      "source": [
        "src = usa_airports[usa_airports.name.str.contains('Los Angeles International Airport')]\n",
        "get_farthest_or_shortest_airports_from(G, src)"
      ],
      "execution_count": null,
      "outputs": [
        {
          "output_type": "execute_result",
          "data": {
            "text/plain": [
              "(['LIH'], ['SBA'])"
            ]
          },
          "metadata": {},
          "execution_count": 55
        }
      ]
    },
    {
      "cell_type": "markdown",
      "metadata": {
        "collapsed": false,
        "pycharm": {
          "name": "#%% md\n"
        },
        "id": "0v8b2P1FmnuG"
      },
      "source": [
        "## 문제 8-4: 출발을 제일 많이 하는 공항은?\n",
        "주어진 trips 그래프로부터 제일 많은 수의 출발지(src)를 가진 공항이 어디인지 탐색하시오."
      ]
    },
    {
      "cell_type": "code",
      "metadata": {
        "pycharm": {
          "name": "#%%\n"
        },
        "id": "fzihp_semnuG"
      },
      "source": [
        "def get_airport_with_highest_out_degree(graph):\n",
        "  '''\n",
        "  graph로부터 가장 높은 out-degree를 가진 공항을 찾아서 반환\n",
        "  :param graph: trips 그래프\n",
        "  :return: ( airport code )\n",
        "  '''\n",
        "  outdegree=[]\n",
        "  max = 0\n",
        "  count = 0\n",
        "  for i in graph.nodes():\n",
        "    for j in graph.edges():\n",
        "      if j[0] == i:\n",
        "        count = count+1\n",
        "    if count>max:\n",
        "      max = count\n",
        "      count =0\n",
        "    else:\n",
        "      count = 0\n",
        "  count = 0\n",
        "  for i in graph.nodes():\n",
        "    for j in graph.edges():\n",
        "      if j[0] == i:\n",
        "        count = count+1\n",
        "    if count == max:\n",
        "      outdegree.append(i)\n",
        "      count =0\n",
        "    else:\n",
        "      count = 0\n",
        "  return outdegree"
      ],
      "execution_count": null,
      "outputs": []
    },
    {
      "cell_type": "code",
      "metadata": {
        "pycharm": {
          "name": "#%%\n"
        },
        "colab": {
          "base_uri": "https://localhost:8080/"
        },
        "id": "sFbqmlMXmnuG",
        "outputId": "f4746cc6-1c83-4214-a516-ddfd63a21f03"
      },
      "source": [
        "get_airport_with_highest_out_degree(G)"
      ],
      "execution_count": null,
      "outputs": [
        {
          "output_type": "execute_result",
          "data": {
            "text/plain": [
              "['ATL', 'DFW']"
            ]
          },
          "metadata": {},
          "execution_count": 59
        }
      ]
    },
    {
      "cell_type": "markdown",
      "metadata": {
        "collapsed": false,
        "pycharm": {
          "name": "#%% md\n"
        },
        "id": "3UN6Dg-KmnuG"
      },
      "source": [
        "## Floyd Washall 알고리즘 활용\n",
        "Floyd Washall 알고리즘은 모든 쌍의 경로의 가중치를 계산하는 데 사용된다. 다음 예제를 사용하여 우리는 LAX 코드를 가진 공항에서 출발하는 모든 공항에 대한 최단경로의 거리값을 계산할 수 있다.\n",
        "https://networkx.org/documentation/stable/reference/algorithms/generated/networkx.algorithms.shortest_paths.dense.floyd_warshall.html#networkx.algorithms.shortest_paths.dense.floyd_warshall"
      ]
    },
    {
      "cell_type": "code",
      "metadata": {
        "pycharm": {
          "name": "#%%\n"
        },
        "id": "zJfyS4IWmnuH"
      },
      "source": [
        "all_pairs_shortest_path = nx.floyd_warshall(G, weight='distance')"
      ],
      "execution_count": null,
      "outputs": []
    },
    {
      "cell_type": "code",
      "metadata": {
        "pycharm": {
          "name": "#%%\n"
        },
        "colab": {
          "base_uri": "https://localhost:8080/"
        },
        "id": "ed88k246mnuH",
        "outputId": "526da4cf-79fd-4731-8848-532ef98d9a06"
      },
      "source": [
        "# 예시 floyd_warshall\n",
        "for k, dists in all_pairs_shortest_path.items():\n",
        "  if k == 'LAX':\n",
        "    print(dists)"
      ],
      "execution_count": null,
      "outputs": [
        {
          "output_type": "stream",
          "name": "stdout",
          "text": [
            "defaultdict(<function floyd_warshall_predecessor_and_distance.<locals>.<lambda>.<locals>.<lambda> at 0x7ff2acf9d290>, {'LAX': 0, 'ATL': 1946.0, 'SEA': 954.0, 'JFK': 2475.0, 'BNA': 1797.0, 'MSY': 1670.0, 'HNL': 2556.0, 'DFW': 1235.0, 'TPA': 2158.0, 'MCI': 1363.0, 'AUS': 1242.0, 'DEN': 862.0, 'IND': 1814.0, 'SLC': 590.0, 'PDX': 834.0, 'CVG': 1900.0, 'MCO': 2218.0, 'DTW': 1978.0, 'RDU': 2239.0, 'OGG': 2486.0, 'LAS': 236.0, 'KOA': 2504.0, 'MSP': 1535.0, 'DCA': 2311.0, 'LIH': 2615.0, 'SAN': 109.0, 'BOS': 2610.0, 'SFO': 337.0, 'MEM': 1619.0, 'CMH': 1995.0, 'MIA': 2342.0, 'SJC': 308.0, 'MFR': 630.0, 'BLI': 1047.0, 'SGF': 1423.0, 'TUL': 1283.0, 'EUG': 748.0, 'BOI': 674.0, 'PVU': 569.0, 'MSO': 923.0, 'EWR': 2454.0, 'IAD': 2288.0, 'ORD': 1744.0, 'IAH': 1379.0, 'CLE': 2052.0, 'BWI': 2329.0, 'ITO': 2449.0, 'SDF': 1843.0, 'ANC': 2345.0, 'PHL': 2401.0, 'FLL': 2342.0, 'DAL': 1246.0, 'ABQ': 677.0, 'ELP': 715.0, 'HOU': 1390.0, 'MDW': 1750.0, 'MKE': 1756.0, 'OAK': 337.0, 'PHX': 370.0, 'PIT': 2136.0, 'RNO': 391.0, 'SAT': 1211.0, 'SMF': 373.0, 'STL': 1592.0, 'TUS': 451.0, 'CLT': 2125.0, 'OMA': 1330.0, 'BDL': 2527.0, 'BUF': 2218.0, 'FAT': 209.0, 'RDM': 726.0, 'SGU': 349.0, 'SBA': 89.0, 'MRY': 266.0, 'PSP': 110.0, 'SBP': 156.0, 'COS': 833.0, 'FLG': 393.0, 'RSW': 2240.0, 'BHM': 1832.0, 'LGA': 2470.0, 'GSP': 2097.0, 'GRR': 1877.0, 'GEG': 961.0, 'SJU': 3386.0, 'STT': 3449.0, 'CHO': 2310.0, 'BIL': 977.0, 'PBI': 2335.0, 'GSO': 2208.0, 'CID': 1554.0, 'SNA': 462.0, 'JAN': 1643.0, 'HSV': 1838.0, 'XNA': 1399.0, 'JAC': 795.0, 'FAR': 1441.0, 'ROA': 2280.0, 'GRB': 1787.0, 'PNS': 1839.0, 'BZN': 937.0, 'MLB': 2388.0, 'FSD': 1340.0, 'VPS': 1876.0, 'CHS': 2205.0, 'TRI': 2173.0, 'PVD': 2592.0, 'CAE': 2138.0, 'ABE': 2399.0, 'TVC': 1911.0, 'DAB': 2312.0, 'CHA': 1930.0, 'MOB': 1774.0, 'MSN': 1688.0, 'BTV': 2507.0, 'AVP': 2376.0, 'HPN': 2482.0, 'JAX': 2153.0, 'FNT': 1967.0, 'ALB': 2467.0, 'ROC': 2272.0, 'PWM': 2644.0, 'BIS': 1284.0, 'LEX': 2020.0, 'RIC': 2344.0, 'OKC': 1203.0, 'SAV': 2160.0, 'ORF': 2415.0, 'ATW': 1746.0, 'DAY': 1984.0, 'CAK': 2087.0, 'EVV': 1877.0, 'MDT': 2338.0, 'ECP': 1920.0, 'GPT': 1735.0, 'SRQ': 2390.0, 'MHT': 2587.0, 'LIT': 1506.0, 'PHF': 2407.0, 'AVL': 2110.0, 'DSM': 1451.0, 'FAI': 2487.0, 'SYR': 2351.0, 'GNV': 2246.0, 'MYR': 2263.0, 'TLH': 2002.0, 'FCA': 1081.0, 'FAY': 2243.0, 'CRW': 2309.0, 'EYW': 2467.0, 'BTR': 1618.0, 'TYS': 1975.0, 'ILM': 2310.0, 'LFT': 1580.0, 'ICT': 1222.0, 'AGS': 2089.0, 'JNU': 1863.0, 'STX': 3480.0, 'SBN': 1828.0, 'SHV': 1425.0, 'BGR': 2847.0, 'MBS': 1966.0, 'MGM': 1857.0, 'CSG': 2029.0, 'CWA': 1710.0, 'OAJ': 2316.0, 'EWN': 2346.0, 'BQK': 2184.0, 'LNK': 1866.0, 'VLD': 2154.0, 'ABY': 2091.0, 'BMI': 1860.0, 'AZA': 512.0, 'PIA': 1649.0, 'LCK': 2307.0, 'PIE': 2151.0, 'USA': 2339.0, 'PSM': 3360.0, 'SFB': 2216.0, 'PGD': 2398.0, 'FWA': 1901.0, 'BLV': 1636.0, 'HTS': 2360.0, 'SCK': 532.0, 'PBG': 3074.0, 'STC': 1771.0, 'MLI': 1612.0, 'GFK': 1466.0, 'ELM': 3170.0, 'IAG': 2913.0, 'SPI': 1865.0, 'OGS': 3358.0, 'TOL': 1957.0, 'MFE': 1446.0, 'SMX': 546.0, 'SWF': 2457.0, 'PSC': 957.0, 'IDA': 774.0, 'GTF': 1047.0, 'RFD': 1691.0, 'RAP': 1079.0, 'MOT': 1334.0, 'LRD': 1328.0, 'GRI': 1207.0, 'CKB': 2188.0, 'OGD': 1056.0, 'HGR': 2996.0, 'GJT': 656.0, 'OWB': 2922.0, 'ONT': 433.0, 'DLH': 1679.0, 'BUR': 459.0, 'BQN': 3324.0, 'GUM': 6357.0, 'EGE': 982.0, 'SCC': 2860.0, 'ADQ': 2598.0, 'BET': 2744.0, 'BRW': 3064.0, 'KTN': 1634.0, 'YAK': 2061.0, 'CDV': 2274.0, 'SIT': 1815.0, 'PSG': 1747.0, 'WRG': 1716.0, 'OME': 2884.0, 'OTZ': 2893.0, 'ADK': 3537.0, 'AMA': 972.0, 'HRL': 1515.0, 'LBB': 958.0, 'ISP': 2517.0, 'CRP': 1577.0, 'MAF': 951.0, 'LGB': 467.0, 'MLU': 1528.0, 'GRK': 1369.0, 'SAF': 740.0, 'MHK': 1666.0, 'JLN': 1562.0, 'CLL': 1399.0, 'AEX': 1520.0, 'LCH': 1506.0, 'BRO': 1687.0, 'HOB': 1880.0, 'RST': 1611.0, 'FSM': 1462.0, 'GGG': 1375.0, 'SUX': 1892.0, 'TYR': 1337.0, 'MQT': 1835.0, 'DBQ': 1891.0, 'TXK': 1416.0, 'SWO': 1460.0, 'ABI': 1393.0, 'SPS': 1348.0, 'CMI': 1879.0, 'LAW': 1375.0, 'ACT': 1324.0, 'COU': 1533.0, 'LAN': 1923.0, 'ROW': 803.0, 'BPT': 1505.0, 'GCK': 1639.0, 'AZO': 1866.0, 'ALO': 1978.0, 'SJT': 1464.0, 'ACY': 2625.0, 'LBE': 2718.0, 'DRO': 723.0, 'BFL': 575.0, 'MTJ': 1957.0, 'STS': 403.0, 'ORH': 2625.0, 'PSE': 3397.0, 'ACK': 2674.0, 'MVY': 2648.0, 'HYA': 2671.0, 'PPG': 5155.0, 'TTN': 2437.0, 'ASE': 882.0, 'YUM': 530.0, 'LSE': 1654.0, 'PIB': 1697.0, 'MEI': 1766.0, 'ISN': 1438.0, 'DHN': 2116.0, 'TWF': 765.0, 'PIH': 740.0, 'CPR': 910.0, 'SCE': 2279.0, 'ERI': 2142.0, 'HLN': 992.0, 'SUN': 812.0, 'GTR': 2187.0, 'CMX': 2104.0, 'EAU': 2013.0, 'LWB': 2233.0, 'SHD': 2320.0, 'LBF': 1090.0, 'MKG': 1862.0, 'HYS': 1160.0, 'SLN': 1248.0, 'BFF': 1012.0, 'GCC': 1175.0, 'RKS': 1122.0, 'PUB': 971.0, 'LBL': 1142.0, 'PAH': 2086.0, 'CGI': 2084.0, 'UIN': 1966.0, 'CNY': 1145.0, 'DVL': 1518.0, 'JMS': 1435.0, 'LAR': 975.0, 'RDD': 536.0, 'ACV': 587.0, 'OTH': 749.0, 'COD': 888.0, 'LWS': 1051.0, 'ABR': 1792.0, 'APN': 2176.0, 'ESC': 2284.0, 'PLN': 2221.0, 'BJI': 1734.0, 'BRD': 1649.0, 'BTM': 948.0, 'CDC': 811.0, 'CIU': 1970.0, 'EKO': 790.0, 'ITH': 2331.0, 'HIB': 1709.0, 'BGM': 2356.0, 'RHI': 1725.0, 'INL': 1790.0, 'IMT': 1792.0, 'WYS': 863.0, 'PGV': 2328.0, 'FLO': 2224.0, 'LYH': 2300.0, 'HVN': 2558.0})\n"
          ]
        }
      ]
    },
    {
      "cell_type": "markdown",
      "metadata": {
        "collapsed": false,
        "pycharm": {
          "name": "#%% md\n"
        },
        "id": "RCD7K3tBmnuJ"
      },
      "source": [
        "## 문제 8-5: 2시간 내 도착지 계산 (Floyd Washall 알고리즘의 활용)\n",
        "비행기의 속도가 500 km/h 라고 가정할 때 2시간내로 도착하는 공항 코드를 반환하는 함수를 작성하시오"
      ]
    },
    {
      "cell_type": "code",
      "metadata": {
        "pycharm": {
          "name": "#%%\n"
        },
        "id": "Y_0rZ7kAmnuJ"
      },
      "source": [
        "def get_airports_within_2hours(G, src, speed):\n",
        "  '''\n",
        "  2시간내\n",
        "  :param G: trips 그래프\n",
        "  :param speed: 비행기의 속도  km/h\n",
        "  :return: 공항 코드 (list 형)\n",
        "  '''\n",
        "  airport = []\n",
        "  for k,dists in all_pairs_shortest_path.items():\n",
        "    if k == src:\n",
        "      for i in G.nodes():\n",
        "        if dists[i]<speed*2:\n",
        "          airport.append(i)\n",
        "  return airport\n"
      ],
      "execution_count": null,
      "outputs": []
    },
    {
      "cell_type": "code",
      "metadata": {
        "pycharm": {
          "name": "#%%\n"
        },
        "id": "jQBXXH1AmnuJ",
        "colab": {
          "base_uri": "https://localhost:8080/"
        },
        "outputId": "3c0ff91e-c705-4ea4-f7bb-d16d3ec441aa"
      },
      "source": [
        "flight_speed = 500 # km/h\n",
        "src = 'LAX'\n",
        "get_airports_within_2hours(G,src,flight_speed)"
      ],
      "execution_count": null,
      "outputs": [
        {
          "output_type": "execute_result",
          "data": {
            "text/plain": [
              "['SLC',\n",
              " 'LAS',\n",
              " 'SAN',\n",
              " 'SEA',\n",
              " 'OAK',\n",
              " 'RNO',\n",
              " 'SFO',\n",
              " 'PDX',\n",
              " 'LAX',\n",
              " 'DEN',\n",
              " 'PHX',\n",
              " 'GEG',\n",
              " 'BIL',\n",
              " 'SMF',\n",
              " 'SNA',\n",
              " 'SJC',\n",
              " 'JAC',\n",
              " 'BOI',\n",
              " 'BZN',\n",
              " 'ELP',\n",
              " 'ABQ',\n",
              " 'TUS',\n",
              " 'MSO',\n",
              " 'COS',\n",
              " 'AZA',\n",
              " 'PVU',\n",
              " 'MFR',\n",
              " 'FAT',\n",
              " 'SCK',\n",
              " 'SMX',\n",
              " 'PSC',\n",
              " 'IDA',\n",
              " 'EUG',\n",
              " 'PSP',\n",
              " 'GJT',\n",
              " 'MRY',\n",
              " 'ONT',\n",
              " 'SBA',\n",
              " 'BUR',\n",
              " 'EGE',\n",
              " 'AMA',\n",
              " 'LBB',\n",
              " 'MAF',\n",
              " 'LGB',\n",
              " 'SAF',\n",
              " 'ROW',\n",
              " 'SBP',\n",
              " 'DRO',\n",
              " 'BFL',\n",
              " 'STS',\n",
              " 'ASE',\n",
              " 'FLG',\n",
              " 'RDM',\n",
              " 'YUM',\n",
              " 'SGU',\n",
              " 'TWF',\n",
              " 'PIH',\n",
              " 'CPR',\n",
              " 'HLN',\n",
              " 'SUN',\n",
              " 'PUB',\n",
              " 'LAR',\n",
              " 'RDD',\n",
              " 'ACV',\n",
              " 'OTH',\n",
              " 'COD',\n",
              " 'BTM',\n",
              " 'CDC',\n",
              " 'EKO',\n",
              " 'WYS']"
            ]
          },
          "metadata": {},
          "execution_count": 249
        }
      ]
    },
    {
      "cell_type": "markdown",
      "metadata": {
        "collapsed": false,
        "pycharm": {
          "name": "#%% md\n"
        },
        "id": "kJV9qO-XmnuJ"
      },
      "source": [
        "완료한 숙제는 ipynb 파일형식으로 다운로드 받아서, 가상대학 내 [과제 7,8에 업로드하시기 바랍니다."
      ]
    },
    {
      "cell_type": "markdown",
      "metadata": {
        "collapsed": false,
        "pycharm": {
          "name": "#%% md\n"
        },
        "id": "onMHQzcWmnuJ"
      },
      "source": [
        "# 감사합니다."
      ]
    }
  ]
}