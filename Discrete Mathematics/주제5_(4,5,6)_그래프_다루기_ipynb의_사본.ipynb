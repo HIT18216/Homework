{
  "nbformat": 4,
  "nbformat_minor": 0,
  "metadata": {
    "colab": {
      "provenance": [],
      "toc_visible": true,
      "include_colab_link": true
    },
    "kernelspec": {
      "name": "python3",
      "display_name": "Python 3"
    },
    "language_info": {
      "name": "python"
    }
  },
  "cells": [
    {
      "cell_type": "markdown",
      "metadata": {
        "id": "view-in-github",
        "colab_type": "text"
      },
      "source": [
        "<a href=\"https://colab.research.google.com/github/HIT18216/Homework/blob/main/Discrete%20Mathematics/%EC%A3%BC%EC%A0%9C5_(4%2C5%2C6)_%EA%B7%B8%EB%9E%98%ED%94%84_%EB%8B%A4%EB%A3%A8%EA%B8%B0_ipynb%EC%9D%98_%EC%82%AC%EB%B3%B8.ipynb\" target=\"_parent\"><img src=\"https://colab.research.google.com/assets/colab-badge.svg\" alt=\"Open In Colab\"/></a>"
      ]
    },
    {
      "cell_type": "markdown",
      "metadata": {
        "id": "YJnuJPN5L4xg"
      },
      "source": [
        "# 과제 4 & 5 & 6: 관계에 대한 이해 및 그래프 생성/분석\n",
        "---\n",
        "박정현(pwjdgus1017@donga.ac.kr), 배정훈(rhenus9911@gmail.com), 최재혁(fkdlfkdl68@donga.ac.kr), 권건우(a71463092@gmail.com)\n",
        "---\n",
        "우리는 관계 강의를 통해 그래프에 대한 구성을 이론적으로 학습하였다. 구체적으로, 유향/무향 그래프 및 관계행렬 등을 그래프 표현으로 배웠다. 하지만, 강의에서 학습한 데이터는 단순한 숫자(1,2,3,..)/문자형(a,b,c,..)이었기 때문에 실제 세계에서 적용하기는 어렵다.\n",
        "\n",
        "본 프로그래밍 과정을 통해, 실제 데이터를 어떻게 그래프 모델로 표현하고, 또한 그래프의 이론적인 방법을 실용적으로 어떻게 응용하는지에 대해서 배울 예정이다.\n",
        "\n",
        "\n"
      ]
    },
    {
      "cell_type": "markdown",
      "metadata": {
        "id": "LyFhqIPQ2WFt"
      },
      "source": [
        "# 해당파일 활용 방법- [메뉴] 파일->드라이브에 사본 저장을 통해서 프로그램 실행하시면 됩니다."
      ]
    },
    {
      "cell_type": "markdown",
      "metadata": {
        "collapsed": false,
        "pycharm": {
          "name": "#%% md\n"
        },
        "id": "2fkhiOxW1uS1"
      },
      "source": [
        "# 과제 도우미 학생을 통해 문제 해결이 어려운 경우, 가상대학의 문의게시판에 궁금한 부분을 게재하시기 바랍니다."
      ]
    },
    {
      "cell_type": "markdown",
      "metadata": {
        "id": "tp5ObGzXM0Gz"
      },
      "source": [
        "# numpy 사용하기\n",
        "Numpy는 C언어로 구현된 파이썬 라이브러리로써, 고성능의 수치계산을 위해 제작되었습니다. Numpy(Numerical Python의 줄임말)는 벡터 및 행렬 연산에 있어서 매우 편리한 기능을 제공합니다.\n",
        "\n",
        "이미 경험한 pandas와 matplotlib의 기반으로 사용될 수 도 있습니다. 예로, 라이브러리를 사용하면 numpy의 행렬을 pandas데이터로 변환할 수 있습니다.\n",
        "\n",
        "기본적으로 Numpy는 배열/행렬(array) 단위로 데이터를 기본으로합니다. 따라서 1d, 2d, 3d(d는 차원으로써 dimention의 약어)에 기반한 배열 연산을 수행합니다.\n",
        "\n",
        "\n",
        "** numpy는 워낙 방대하기 때문에 본 챕터에서는 관계행렬 혹은 가중치 그래프 중심의 행렬 연산을 주로 배울 예정입니다.\n",
        "\n",
        "\n",
        "세부적으로, 공부하고 싶은 학생은 \"파이썬과 NumPy로 배우는 선형대수\", \"Mastering Numerical Computing with NumPy\" 등와 같은 도서를 구입하고 별도로 공부하길 바랍니다."
      ]
    },
    {
      "cell_type": "markdown",
      "metadata": {
        "id": "gWi8XPQyNa6l"
      },
      "source": [
        "## numpy 데이터 선언하기"
      ]
    },
    {
      "cell_type": "code",
      "metadata": {
        "id": "isi10GTmLzeX"
      },
      "source": [
        "import numpy as np"
      ],
      "execution_count": null,
      "outputs": []
    },
    {
      "cell_type": "code",
      "metadata": {
        "colab": {
          "base_uri": "https://localhost:8080/"
        },
        "id": "tOsZFgDWMzbH",
        "outputId": "5d4498a3-745c-4268-cd77-f25ce03e1907"
      },
      "source": [
        "data1 = [1,2,3,4,5]\n",
        "data1"
      ],
      "execution_count": null,
      "outputs": [
        {
          "output_type": "execute_result",
          "data": {
            "text/plain": [
              "[1, 2, 3, 4, 5]"
            ]
          },
          "metadata": {},
          "execution_count": 2
        }
      ]
    },
    {
      "cell_type": "code",
      "metadata": {
        "colab": {
          "base_uri": "https://localhost:8080/"
        },
        "id": "N4MVMfnhNE2Z",
        "outputId": "dfb3d875-96cd-405b-dfab-ab48a34793b8"
      },
      "source": [
        "arr1 = np.array(data1)\n",
        "arr1"
      ],
      "execution_count": null,
      "outputs": [
        {
          "output_type": "execute_result",
          "data": {
            "text/plain": [
              "array([1, 2, 3, 4, 5])"
            ]
          },
          "metadata": {},
          "execution_count": 3
        }
      ]
    },
    {
      "cell_type": "code",
      "metadata": {
        "colab": {
          "base_uri": "https://localhost:8080/"
        },
        "id": "cZwlYeuCNGJG",
        "outputId": "aac3ecfb-f58e-49c6-f257-28e4727d8a1f"
      },
      "source": [
        "arr1.shape"
      ],
      "execution_count": null,
      "outputs": [
        {
          "output_type": "execute_result",
          "data": {
            "text/plain": [
              "(5,)"
            ]
          },
          "metadata": {},
          "execution_count": 4
        }
      ]
    },
    {
      "cell_type": "code",
      "metadata": {
        "colab": {
          "base_uri": "https://localhost:8080/"
        },
        "id": "-sjYb-BvNLHc",
        "outputId": "cbe1e8a9-81be-45c2-d272-7ba24ae9df1e"
      },
      "source": [
        "arr4 = np.array([[1,2,3],[4,5,6],[7,8,9],[10,11,12]])\n",
        "arr4"
      ],
      "execution_count": null,
      "outputs": [
        {
          "output_type": "execute_result",
          "data": {
            "text/plain": [
              "array([[ 1,  2,  3],\n",
              "       [ 4,  5,  6],\n",
              "       [ 7,  8,  9],\n",
              "       [10, 11, 12]])"
            ]
          },
          "metadata": {},
          "execution_count": 5
        }
      ]
    },
    {
      "cell_type": "code",
      "metadata": {
        "colab": {
          "base_uri": "https://localhost:8080/"
        },
        "id": "QMzlgPDxNN7n",
        "outputId": "007e25a8-c67e-4634-b4fd-f1ccf3208ce8"
      },
      "source": [
        "np.zeros((3,3))"
      ],
      "execution_count": null,
      "outputs": [
        {
          "output_type": "execute_result",
          "data": {
            "text/plain": [
              "array([[0., 0., 0.],\n",
              "       [0., 0., 0.],\n",
              "       [0., 0., 0.]])"
            ]
          },
          "metadata": {},
          "execution_count": 6
        }
      ]
    },
    {
      "cell_type": "code",
      "metadata": {
        "colab": {
          "base_uri": "https://localhost:8080/"
        },
        "id": "7sAFH9_2NPd6",
        "outputId": "97ebaea0-e945-4cfc-e1d5-defb4fb8392c"
      },
      "source": [
        "np.ones((3, 3))"
      ],
      "execution_count": null,
      "outputs": [
        {
          "output_type": "execute_result",
          "data": {
            "text/plain": [
              "array([[1., 1., 1.],\n",
              "       [1., 1., 1.],\n",
              "       [1., 1., 1.]])"
            ]
          },
          "metadata": {},
          "execution_count": 7
        }
      ]
    },
    {
      "cell_type": "markdown",
      "metadata": {
        "id": "f28taIOvNi6I"
      },
      "source": [
        "## numpy 데이터간 연산하기"
      ]
    },
    {
      "cell_type": "code",
      "metadata": {
        "id": "klu1xROpNYuQ"
      },
      "source": [
        "arr1 = np.array([[True,True],[False, False]])"
      ],
      "execution_count": null,
      "outputs": []
    },
    {
      "cell_type": "code",
      "metadata": {
        "id": "WnA_hS-mPAT0"
      },
      "source": [
        "arr2 = np.array([[True,True],[True, False]])"
      ],
      "execution_count": null,
      "outputs": []
    },
    {
      "cell_type": "code",
      "metadata": {
        "id": "kb7nTxouQLwc",
        "colab": {
          "base_uri": "https://localhost:8080/"
        },
        "outputId": "689e9de4-0845-49ac-a63b-29bc6291bb3c"
      },
      "source": [
        "# 논리합 계산하기\n",
        "# astype(int)를 통해서 True/False 값을 0/1로 변환하기\n",
        "np.logical_and(arr1, arr2).astype(int)"
      ],
      "execution_count": null,
      "outputs": [
        {
          "output_type": "execute_result",
          "data": {
            "text/plain": [
              "array([[1, 1],\n",
              "       [0, 0]])"
            ]
          },
          "metadata": {},
          "execution_count": 10
        }
      ]
    },
    {
      "cell_type": "markdown",
      "metadata": {
        "id": "BZSSeDl2QMSS"
      },
      "source": [
        "# 관계에 대한 이해\n"
      ]
    },
    {
      "cell_type": "code",
      "metadata": {
        "id": "13ofWymuRppT"
      },
      "source": [
        "def gen_rand_boolean_matrix(N):\n",
        "  arr = np.full((N,N), False)\n",
        "  idx = np.random.randint(N, size=N)\n",
        "\n",
        "  # replace \"False\" by \"True\" at given indices\n",
        "  arr[range(N), idx] = True\n",
        "  return arr"
      ],
      "execution_count": null,
      "outputs": []
    },
    {
      "cell_type": "code",
      "metadata": {
        "colab": {
          "base_uri": "https://localhost:8080/"
        },
        "id": "U-bN2qpwQtWd",
        "outputId": "17c789a2-77fd-4bcd-f68e-897ecae0e936"
      },
      "source": [
        "M = 8\n",
        "R = gen_rand_boolean_matrix(M)\n",
        "R.astype(int)"
      ],
      "execution_count": null,
      "outputs": [
        {
          "output_type": "execute_result",
          "data": {
            "text/plain": [
              "array([[0, 0, 0, 0, 1, 0, 0, 0],\n",
              "       [0, 0, 0, 0, 0, 0, 0, 1],\n",
              "       [1, 0, 0, 0, 0, 0, 0, 0],\n",
              "       [0, 1, 0, 0, 0, 0, 0, 0],\n",
              "       [0, 0, 1, 0, 0, 0, 0, 0],\n",
              "       [0, 0, 0, 0, 0, 0, 0, 1],\n",
              "       [0, 0, 0, 0, 0, 1, 0, 0],\n",
              "       [0, 0, 0, 0, 0, 0, 1, 0]])"
            ]
          },
          "metadata": {},
          "execution_count": 12
        }
      ]
    },
    {
      "cell_type": "code",
      "metadata": {
        "id": "AWWVgk40SD3h",
        "colab": {
          "base_uri": "https://localhost:8080/"
        },
        "outputId": "45c99d44-d1ff-45b1-9af6-b9941084ceed"
      },
      "source": [
        "S = gen_rand_boolean_matrix(M)\n",
        "S.astype(int)"
      ],
      "execution_count": null,
      "outputs": [
        {
          "output_type": "execute_result",
          "data": {
            "text/plain": [
              "array([[0, 0, 1, 0, 0, 0, 0, 0],\n",
              "       [1, 0, 0, 0, 0, 0, 0, 0],\n",
              "       [0, 1, 0, 0, 0, 0, 0, 0],\n",
              "       [1, 0, 0, 0, 0, 0, 0, 0],\n",
              "       [0, 0, 0, 0, 0, 0, 0, 1],\n",
              "       [0, 0, 0, 0, 1, 0, 0, 0],\n",
              "       [0, 0, 1, 0, 0, 0, 0, 0],\n",
              "       [0, 1, 0, 0, 0, 0, 0, 0]])"
            ]
          },
          "metadata": {},
          "execution_count": 13
        }
      ]
    },
    {
      "cell_type": "code",
      "metadata": {
        "colab": {
          "base_uri": "https://localhost:8080/"
        },
        "id": "8fkPgk9kS5tr",
        "outputId": "fe079e19-5ba2-48a2-8396-f594411448c8"
      },
      "source": [
        "R_and_S = np.logical_and(R,S)\n",
        "R_and_S"
      ],
      "execution_count": null,
      "outputs": [
        {
          "output_type": "execute_result",
          "data": {
            "text/plain": [
              "array([[False, False, False, False, False, False, False, False],\n",
              "       [False, False, False, False, False, False, False, False],\n",
              "       [False, False, False, False, False, False, False, False],\n",
              "       [False, False, False, False, False, False, False, False],\n",
              "       [False, False, False, False, False, False, False, False],\n",
              "       [False, False, False, False, False, False, False, False],\n",
              "       [False, False, False, False, False, False, False, False],\n",
              "       [False, False, False, False, False, False, False, False]])"
            ]
          },
          "metadata": {},
          "execution_count": 16
        }
      ]
    },
    {
      "cell_type": "code",
      "metadata": {
        "colab": {
          "base_uri": "https://localhost:8080/"
        },
        "id": "R0mSenSPTGP9",
        "outputId": "3d7b76d2-953a-4a58-cce6-1a89f9f3a477"
      },
      "source": [
        "R_and_S.astype(int)"
      ],
      "execution_count": null,
      "outputs": [
        {
          "output_type": "execute_result",
          "data": {
            "text/plain": [
              "array([[0, 0, 0, 0, 0, 0, 0, 0],\n",
              "       [0, 0, 0, 0, 0, 0, 0, 0],\n",
              "       [0, 0, 0, 0, 0, 0, 0, 0],\n",
              "       [0, 0, 0, 0, 0, 0, 0, 0],\n",
              "       [0, 0, 0, 0, 0, 0, 0, 0],\n",
              "       [0, 0, 0, 0, 0, 0, 0, 0],\n",
              "       [0, 0, 0, 0, 0, 0, 0, 0],\n",
              "       [0, 0, 0, 0, 0, 0, 0, 0]])"
            ]
          },
          "metadata": {},
          "execution_count": 17
        }
      ]
    },
    {
      "cell_type": "markdown",
      "metadata": {
        "id": "KGYZ2J5tTdzb"
      },
      "source": [
        "## 문제 4-1: 부울곱(Boolean Product)을 생성하시오"
      ]
    },
    {
      "cell_type": "code",
      "metadata": {
        "id": "dKvnbno3fFMp"
      },
      "source": [
        "def my_boolean_product(R, S):\n",
        "  M=np.full(R.shape,False)\n",
        "  '''\n",
        "  주어진 관계 매트릭스로부터 부울곱 (Boolean Product)한 결과를 계산하시오\n",
        "  :param R: NxN Boolean 기반 관계행렬\n",
        "  :param S: NxN Boolean 기반 관계행렬\n",
        "  :return: NxN Boolean 기반 관계행렬\n",
        "  '''\n",
        "  for i in range(len(R)):\n",
        "    for j in range(len(S[i])):\n",
        "      for k in range(len(S[i])):\n",
        "        M[i,j] = R[i,k] and S[k,j] or M[i,j]\n",
        "  return M # M은 관계행렬"
      ],
      "execution_count": null,
      "outputs": []
    },
    {
      "cell_type": "code",
      "metadata": {
        "pycharm": {
          "name": "#%%\n"
        },
        "colab": {
          "base_uri": "https://localhost:8080/"
        },
        "id": "pkXAmdMP1uS9",
        "outputId": "4dc0c670-a516-4f37-c32d-fea5ad5fdd30"
      },
      "source": [
        "my_boolean_product(R,S)"
      ],
      "execution_count": null,
      "outputs": [
        {
          "output_type": "execute_result",
          "data": {
            "text/plain": [
              "array([[False, False, False, False, False, False, False,  True],\n",
              "       [False,  True, False, False, False, False, False, False],\n",
              "       [False, False,  True, False, False, False, False, False],\n",
              "       [ True, False, False, False, False, False, False, False],\n",
              "       [False,  True, False, False, False, False, False, False],\n",
              "       [False,  True, False, False, False, False, False, False],\n",
              "       [False, False, False, False,  True, False, False, False],\n",
              "       [False, False,  True, False, False, False, False, False]])"
            ]
          },
          "metadata": {},
          "execution_count": 20
        }
      ]
    },
    {
      "cell_type": "markdown",
      "metadata": {
        "id": "bPywG3lfToq3"
      },
      "source": [
        "## 문제 4-2: Transitive Relation, Symmetric Relation, Reflexive Relation\n",
        "주어진 행렬 M이 Transitive Relation, Symmetric Relation, Reflexive Relation, 만족하는 지를 확인하는 메소드를 만드시오"
      ]
    },
    {
      "cell_type": "code",
      "metadata": {
        "id": "VnBRToAkezZL"
      },
      "source": [
        "def is_transitive_relation(M):\n",
        "  '''\n",
        "  추이 관계인지를 확인하는 함수\n",
        "  :param M: NxN Boolean 기반 관계행렬\n",
        "  :return: True / False\n",
        "  '''\n",
        "  for i in range(len(M)):\n",
        "    for j in range(len(M[i])):\n",
        "      if M[i,j] == True:\n",
        "        for k in range(len(M)):\n",
        "          for u in range(len(M[k])):\n",
        "            if M[i,u] == True:\n",
        "              if M[k,j] ==False:\n",
        "                return False\n",
        "  return True"
      ],
      "execution_count": null,
      "outputs": []
    },
    {
      "cell_type": "code",
      "metadata": {
        "pycharm": {
          "name": "#%%\n"
        },
        "id": "W0wrmMbX1uS-"
      },
      "source": [
        "def is_symmetric_relation(M):\n",
        "  '''\n",
        "  대칭 관계인지를 확인하는 함수\n",
        "  :param M: NxN Boolean 기반 관계행렬\n",
        "  :return: True / False\n",
        "  '''\n",
        "  for i in range(len(M)):\n",
        "    for j in range(len(M[i])):\n",
        "      if M[i,j] != M[j,i]:\n",
        "        return False\n",
        "  return True"
      ],
      "execution_count": null,
      "outputs": []
    },
    {
      "cell_type": "code",
      "metadata": {
        "pycharm": {
          "name": "#%%\n"
        },
        "id": "nVtVm3xB1uS-"
      },
      "source": [
        "def is_reflexive_relation(M):\n",
        "  '''\n",
        "  반사 관계인지를 확인하는 함수\n",
        "  :param M: NxN Boolean 기반 관계행렬\n",
        "  :return: True / False\n",
        "  '''\n",
        "  for i in range(len(M)):\n",
        "    for j in range(len(M[i])):\n",
        "      if i==j:\n",
        "        if M[i,j]== False:\n",
        "          return False\n",
        "  return True"
      ],
      "execution_count": null,
      "outputs": []
    },
    {
      "cell_type": "code",
      "metadata": {
        "pycharm": {
          "name": "#%%\n"
        },
        "colab": {
          "base_uri": "https://localhost:8080/"
        },
        "id": "pE8yK-7g1uS-",
        "outputId": "0400fb70-1f58-4b53-8af1-e0ec2b3f8437"
      },
      "source": [
        "M = np.full((3,3), True)\n",
        "M"
      ],
      "execution_count": null,
      "outputs": [
        {
          "output_type": "execute_result",
          "data": {
            "text/plain": [
              "array([[ True,  True,  True],\n",
              "       [ True,  True,  True],\n",
              "       [ True,  True,  True]])"
            ]
          },
          "metadata": {},
          "execution_count": 24
        }
      ]
    },
    {
      "cell_type": "code",
      "metadata": {
        "pycharm": {
          "name": "#%%\n"
        },
        "colab": {
          "base_uri": "https://localhost:8080/"
        },
        "id": "o1nv4X0u1uS-",
        "outputId": "d952ea95-3353-4d16-a1d4-9f9b1692b943"
      },
      "source": [
        "is_transitive_relation(M)"
      ],
      "execution_count": null,
      "outputs": [
        {
          "output_type": "execute_result",
          "data": {
            "text/plain": [
              "True"
            ]
          },
          "metadata": {},
          "execution_count": 25
        }
      ]
    },
    {
      "cell_type": "code",
      "metadata": {
        "pycharm": {
          "name": "#%%\n"
        },
        "colab": {
          "base_uri": "https://localhost:8080/"
        },
        "id": "EM7O4lZy1uS-",
        "outputId": "f802a584-7d65-4df0-ecf9-b149e634d85d"
      },
      "source": [
        "is_symmetric_relation(M)"
      ],
      "execution_count": null,
      "outputs": [
        {
          "output_type": "execute_result",
          "data": {
            "text/plain": [
              "True"
            ]
          },
          "metadata": {},
          "execution_count": 26
        }
      ]
    },
    {
      "cell_type": "code",
      "metadata": {
        "pycharm": {
          "name": "#%%\n"
        },
        "colab": {
          "base_uri": "https://localhost:8080/"
        },
        "id": "xOWPMmzy1uS_",
        "outputId": "6bded734-f45e-462f-f1f6-4bb18bea03d0"
      },
      "source": [
        "is_reflexive_relation(M)"
      ],
      "execution_count": null,
      "outputs": [
        {
          "output_type": "execute_result",
          "data": {
            "text/plain": [
              "True"
            ]
          },
          "metadata": {},
          "execution_count": 27
        }
      ]
    },
    {
      "cell_type": "code",
      "metadata": {
        "pycharm": {
          "name": "#%%\n"
        },
        "colab": {
          "base_uri": "https://localhost:8080/"
        },
        "id": "HSbGH7Tj1uS_",
        "outputId": "a2d39134-0b53-4dc1-c6a4-c04a417cbd86"
      },
      "source": [
        "M = np.full((3,3), False)\n",
        "M"
      ],
      "execution_count": null,
      "outputs": [
        {
          "output_type": "execute_result",
          "data": {
            "text/plain": [
              "array([[False, False, False],\n",
              "       [False, False, False],\n",
              "       [False, False, False]])"
            ]
          },
          "metadata": {},
          "execution_count": 28
        }
      ]
    },
    {
      "cell_type": "code",
      "metadata": {
        "pycharm": {
          "name": "#%%\n"
        },
        "colab": {
          "base_uri": "https://localhost:8080/"
        },
        "id": "9W4YdHdw1uTA",
        "outputId": "e3d5d07e-0a85-4d05-fee6-fd38a78d5324"
      },
      "source": [
        "is_transitive_relation(M)"
      ],
      "execution_count": null,
      "outputs": [
        {
          "output_type": "execute_result",
          "data": {
            "text/plain": [
              "True"
            ]
          },
          "metadata": {},
          "execution_count": 29
        }
      ]
    },
    {
      "cell_type": "code",
      "metadata": {
        "pycharm": {
          "name": "#%%\n"
        },
        "colab": {
          "base_uri": "https://localhost:8080/"
        },
        "id": "lCM9JWTS1uTB",
        "outputId": "5041aabe-9432-421d-ce51-1bb30e65a8f9"
      },
      "source": [
        "is_symmetric_relation(M)"
      ],
      "execution_count": null,
      "outputs": [
        {
          "output_type": "execute_result",
          "data": {
            "text/plain": [
              "True"
            ]
          },
          "metadata": {},
          "execution_count": 30
        }
      ]
    },
    {
      "cell_type": "code",
      "metadata": {
        "pycharm": {
          "name": "#%%\n"
        },
        "colab": {
          "base_uri": "https://localhost:8080/"
        },
        "id": "inoX3Ka_1uTB",
        "outputId": "a990ed32-a8a0-49b8-a1fc-ed0060d012ae"
      },
      "source": [
        "is_reflexive_relation(M)"
      ],
      "execution_count": null,
      "outputs": [
        {
          "output_type": "execute_result",
          "data": {
            "text/plain": [
              "False"
            ]
          },
          "metadata": {},
          "execution_count": 31
        }
      ]
    },
    {
      "cell_type": "markdown",
      "metadata": {
        "id": "0fpAZxLwe5FR"
      },
      "source": [
        "## 문제 4-3: Equivalence relation\n",
        "is_transitive, is_symmetric, is_reflexive_relation 메소드를 활용하여 equivalence relation인지를 확인하는 메소드를 생성하시오\n"
      ]
    },
    {
      "cell_type": "code",
      "metadata": {
        "id": "HyFu0yHwgPb1"
      },
      "source": [
        "def is_equivalence_relation(M):\n",
        "  '''\n",
        "  동치 관계인지를 확인하는 함수\n",
        "  :param M: NxN Boolean 기반 관계행렬\n",
        "  :return: True / False\n",
        "  '''\n",
        "  if is_transitive_relation(M)==False:\n",
        "    return False\n",
        "  if is_symmetric_relation(M)==False:\n",
        "    return False\n",
        "  if is_reflexive_relation(M)==False:\n",
        "    return False\n",
        "  return True"
      ],
      "execution_count": null,
      "outputs": []
    },
    {
      "cell_type": "code",
      "metadata": {
        "pycharm": {
          "name": "#%%\n"
        },
        "colab": {
          "base_uri": "https://localhost:8080/"
        },
        "id": "VrkYWXpu1uTB",
        "outputId": "fd01f20a-89c3-4b89-fba0-f0f93e006255"
      },
      "source": [
        "M = np.array([[True,True,True,True],[False,True,False,True],[True,True,True,True],[True,True,True,True]])\n",
        "M"
      ],
      "execution_count": null,
      "outputs": [
        {
          "output_type": "execute_result",
          "data": {
            "text/plain": [
              "array([[ True,  True,  True,  True],\n",
              "       [False,  True, False,  True],\n",
              "       [ True,  True,  True,  True],\n",
              "       [ True,  True,  True,  True]])"
            ]
          },
          "metadata": {},
          "execution_count": 33
        }
      ]
    },
    {
      "cell_type": "code",
      "metadata": {
        "pycharm": {
          "name": "#%%\n"
        },
        "colab": {
          "base_uri": "https://localhost:8080/"
        },
        "id": "x1Tb0k2E1uTB",
        "outputId": "e553cef7-b3dd-4519-ced9-6f8f906fe306"
      },
      "source": [
        "is_equivalence_relation(M)"
      ],
      "execution_count": null,
      "outputs": [
        {
          "output_type": "execute_result",
          "data": {
            "text/plain": [
              "False"
            ]
          },
          "metadata": {},
          "execution_count": 34
        }
      ]
    },
    {
      "cell_type": "code",
      "metadata": {
        "pycharm": {
          "name": "#%%\n"
        },
        "colab": {
          "base_uri": "https://localhost:8080/"
        },
        "id": "_cUpvsXY1uTC",
        "outputId": "3a2bebaf-b94d-4df0-ab76-ebc6518d3222"
      },
      "source": [
        "M = np.full((3,3), True)\n",
        "M"
      ],
      "execution_count": null,
      "outputs": [
        {
          "output_type": "execute_result",
          "data": {
            "text/plain": [
              "array([[ True,  True,  True],\n",
              "       [ True,  True,  True],\n",
              "       [ True,  True,  True]])"
            ]
          },
          "metadata": {},
          "execution_count": 35
        }
      ]
    },
    {
      "cell_type": "code",
      "metadata": {
        "pycharm": {
          "name": "#%%\n"
        },
        "colab": {
          "base_uri": "https://localhost:8080/"
        },
        "id": "ImTKG4rR1uTC",
        "outputId": "6bdf0d53-6ddf-40f2-f028-e310cbc73b2f"
      },
      "source": [
        "is_equivalence_relation(M)"
      ],
      "execution_count": null,
      "outputs": [
        {
          "output_type": "execute_result",
          "data": {
            "text/plain": [
              "True"
            ]
          },
          "metadata": {},
          "execution_count": 36
        }
      ]
    },
    {
      "cell_type": "markdown",
      "metadata": {
        "id": "MlocFs85gPxl"
      },
      "source": [
        "## 문제 4-4: Floyd Washall Algorithm\n",
        "플로이드 워셜 알고리즘을 작성하고, 이를 통해 주어진 관계행렬을 만족하는 가장 작은 동치 관계(Equivalence relation)를 구하여라\n",
        "플로이드 알고리즘은 외부 혹은 라이브러리를 사용해도 무관하다. 단 입출력은 만족해야한다."
      ]
    },
    {
      "cell_type": "code",
      "metadata": {
        "pycharm": {
          "name": "#%%\n"
        },
        "id": "dKIXmfTy1uTC"
      },
      "source": [
        "def floyd_washall(R, S):\n",
        "  '''\n",
        "  관계행렬 R과 S를 입력으로 받아서 플로이드 워셜 알고리즘을 통해 가장 작은 동치 관계행렬을 반환한다\n",
        "  :param R: NxN의 관계행렬\n",
        "  :param S: NxN의 관계행렬\n",
        "  :return: NxN의 관계행렬\n",
        "  '''\n",
        "  E = np.logical_or(R,S) # 수정해도 되는 부분\n",
        "  for i in range(len(E)):\n",
        "    for j in range(len(E)):\n",
        "      for k in range(len(E[j])):\n",
        "        if i != j and i != k:\n",
        "          if E[i,j] and E[k,i]:\n",
        "            E[k,j] = True\n",
        "  return E # 가장작은 동치 관계행렬을 반환"
      ],
      "execution_count": null,
      "outputs": []
    },
    {
      "cell_type": "code",
      "metadata": {
        "pycharm": {
          "name": "#%%\n"
        },
        "colab": {
          "base_uri": "https://localhost:8080/"
        },
        "id": "lwH4AF4H1uTC",
        "outputId": "d28f560e-9418-4fc6-c4f3-4a14ecf4d028"
      },
      "source": [
        "R = np.array([[True,True,False,False,False],[True,True,False,False,False],[False,False,True,True,False],[False,False,True,True,True],[False,False,False,False,True]])\n",
        "\n",
        "S = np.array([[True,False,False,False,False],[False,True,False,False,False],[False,False,True,False,False],[False,False,False,True,True],[False,False,False,True,True]])\n",
        "R"
      ],
      "execution_count": null,
      "outputs": [
        {
          "output_type": "execute_result",
          "data": {
            "text/plain": [
              "array([[ True,  True, False, False, False],\n",
              "       [ True,  True, False, False, False],\n",
              "       [False, False,  True,  True, False],\n",
              "       [False, False,  True,  True,  True],\n",
              "       [False, False, False, False,  True]])"
            ]
          },
          "metadata": {},
          "execution_count": 39
        }
      ]
    },
    {
      "cell_type": "code",
      "metadata": {
        "pycharm": {
          "name": "#%%\n"
        },
        "colab": {
          "base_uri": "https://localhost:8080/"
        },
        "id": "Y8UBNHxE1uTC",
        "outputId": "9404d4b9-2e2d-4fe7-9584-74a347e95873"
      },
      "source": [
        "S"
      ],
      "execution_count": null,
      "outputs": [
        {
          "output_type": "execute_result",
          "data": {
            "text/plain": [
              "array([[ True, False, False, False, False],\n",
              "       [False,  True, False, False, False],\n",
              "       [False, False,  True, False, False],\n",
              "       [False, False, False,  True,  True],\n",
              "       [False, False, False,  True,  True]])"
            ]
          },
          "metadata": {},
          "execution_count": 40
        }
      ]
    },
    {
      "cell_type": "code",
      "metadata": {
        "pycharm": {
          "name": "#%%\n"
        },
        "colab": {
          "base_uri": "https://localhost:8080/"
        },
        "id": "49aQPHJ11uTD",
        "outputId": "436739ae-971e-42b3-af91-66a1a6256876"
      },
      "source": [
        "# 슬라이드 관계 챕터에서, p105의 정답과 동일해야함\n",
        "floyd_washall(R, S)"
      ],
      "execution_count": null,
      "outputs": [
        {
          "output_type": "execute_result",
          "data": {
            "text/plain": [
              "array([[ True,  True, False, False, False],\n",
              "       [ True,  True, False, False, False],\n",
              "       [False, False,  True,  True,  True],\n",
              "       [False, False,  True,  True,  True],\n",
              "       [False, False,  True,  True,  True]])"
            ]
          },
          "metadata": {},
          "execution_count": 41
        }
      ]
    },
    {
      "cell_type": "markdown",
      "metadata": {
        "id": "BnJ0u5qZgwjo"
      },
      "source": [
        "# 그래프 생성하기\n",
        "그래프의 edge와 vertex(node)를 생성하는 방법을 배웁니다"
      ]
    },
    {
      "cell_type": "code",
      "metadata": {
        "id": "OvfK1glUhf1I"
      },
      "source": [
        "import networkx as nx"
      ],
      "execution_count": null,
      "outputs": []
    },
    {
      "cell_type": "code",
      "metadata": {
        "pycharm": {
          "name": "#%%\n"
        },
        "id": "iv-7IZxV1uTD"
      },
      "source": [
        "# 기본 그래프 선언\n",
        "g=nx.Graph()"
      ],
      "execution_count": null,
      "outputs": []
    },
    {
      "cell_type": "markdown",
      "metadata": {
        "collapsed": false,
        "pycharm": {
          "name": "#%% md\n"
        },
        "id": "X12vXI7v1uTD"
      },
      "source": [
        "add_node: 노드를 추가합니다.\n",
        "add_nodes_from: 리스트 등으로부터 여러 노드를 추가합니다"
      ]
    },
    {
      "cell_type": "code",
      "metadata": {
        "pycharm": {
          "name": "#%%\n"
        },
        "id": "YYzSj7Qk1uTD"
      },
      "source": [
        "g.add_node(\"A\")\n",
        "g.add_node(\"B\")\n",
        "g.add_node(\"C\")\n",
        "g.add_nodes_from([\"D\",\"E\",\"F\"])\n",
        "g.add_node(\"G\")"
      ],
      "execution_count": null,
      "outputs": []
    },
    {
      "cell_type": "code",
      "metadata": {
        "pycharm": {
          "name": "#%%\n"
        },
        "colab": {
          "base_uri": "https://localhost:8080/"
        },
        "id": "hfmry0Ov1uTD",
        "outputId": "46feb129-09f3-421f-c936-57feef08b941"
      },
      "source": [
        "g.nodes"
      ],
      "execution_count": null,
      "outputs": [
        {
          "output_type": "execute_result",
          "data": {
            "text/plain": [
              "NodeView(('A', 'B', 'C', 'D', 'E', 'F', 'G'))"
            ]
          },
          "metadata": {},
          "execution_count": 5
        }
      ]
    },
    {
      "cell_type": "code",
      "metadata": {
        "pycharm": {
          "name": "#%%\n"
        },
        "colab": {
          "base_uri": "https://localhost:8080/"
        },
        "id": "AI2JA3w31uTD",
        "outputId": "7c46776b-b959-4191-b83c-cf9697b0e232"
      },
      "source": [
        "# 노드의 수를 확인합니다.\n",
        "g.number_of_nodes()"
      ],
      "execution_count": null,
      "outputs": [
        {
          "output_type": "execute_result",
          "data": {
            "text/plain": [
              "7"
            ]
          },
          "metadata": {},
          "execution_count": 6
        }
      ]
    },
    {
      "cell_type": "code",
      "metadata": {
        "pycharm": {
          "name": "#%%\n"
        },
        "id": "BCqOh-9W1uTE"
      },
      "source": [
        "g.remove_node(\"G\")"
      ],
      "execution_count": null,
      "outputs": []
    },
    {
      "cell_type": "code",
      "metadata": {
        "pycharm": {
          "name": "#%%\n"
        },
        "id": "XBaXz9a41uTE"
      },
      "source": [
        "g.add_edge(\"A\",\"C\")\n",
        "g.add_edge(\"A\",\"D\")\n",
        "g.add_edge(\"A\",\"E\")\n",
        "g.add_edge(\"A\",\"F\")\n",
        "g.add_edges_from([(\"B\",\"B\"),(\"B\",\"C\"),(\"B\",\"D\"),(\"B\",\"F\")])\n",
        "g.add_edge(\"D\",\"E\")\n",
        "g.add_edge(\"C\",\"D\")\n",
        "g.add_edge(\"C\",\"F\")\n",
        "g.add_edge(\"E\",\"E\")"
      ],
      "execution_count": null,
      "outputs": []
    },
    {
      "cell_type": "code",
      "metadata": {
        "pycharm": {
          "name": "#%%\n"
        },
        "colab": {
          "base_uri": "https://localhost:8080/"
        },
        "id": "i8c7gikA1uTE",
        "outputId": "5f2ea29d-f2ad-4a01-fedc-10a5b08d9498"
      },
      "source": [
        "g.remove_node(\"A\")\n",
        "g.number_of_edges()"
      ],
      "execution_count": null,
      "outputs": [
        {
          "output_type": "execute_result",
          "data": {
            "text/plain": [
              "8"
            ]
          },
          "metadata": {},
          "execution_count": 9
        }
      ]
    },
    {
      "cell_type": "code",
      "metadata": {
        "pycharm": {
          "name": "#%%\n"
        },
        "colab": {
          "base_uri": "https://localhost:8080/",
          "height": 319
        },
        "id": "ETcR_0vz1uTE",
        "outputId": "b399722b-c768-4524-a389-ac7307def631"
      },
      "source": [
        "# 그래프 화면 출력\n",
        "nx.draw(g, with_labels = True)"
      ],
      "execution_count": null,
      "outputs": [
        {
          "output_type": "display_data",
          "data": {
            "image/png": "[encoded data removed]",
            "text/plain": [
              "<Figure size 432x288 with 1 Axes>"
            ]
          },
          "metadata": {}
        }
      ]
    },
    {
      "cell_type": "code",
      "metadata": {
        "pycharm": {
          "name": "#%%\n"
        },
        "id": "K8B2Hise1uTE"
      },
      "source": [
        "# 엣지 제거\n",
        "g.remove_edge(\"C\",\"D\")"
      ],
      "execution_count": null,
      "outputs": []
    },
    {
      "cell_type": "code",
      "metadata": {
        "pycharm": {
          "name": "#%%\n"
        },
        "colab": {
          "base_uri": "https://localhost:8080/"
        },
        "id": "kLGt447P1uTE",
        "outputId": "11acc951-7ee9-4b50-8b1d-f47657e0e95d"
      },
      "source": [
        "g.edges"
      ],
      "execution_count": null,
      "outputs": [
        {
          "output_type": "execute_result",
          "data": {
            "text/plain": [
              "EdgeView([('A', 'C'), ('A', 'D'), ('A', 'E'), ('A', 'F'), ('B', 'B'), ('B', 'C'), ('B', 'D'), ('B', 'F'), ('C', 'F'), ('D', 'E'), ('E', 'E')])"
            ]
          },
          "metadata": {},
          "execution_count": 52
        }
      ]
    },
    {
      "cell_type": "code",
      "metadata": {
        "pycharm": {
          "name": "#%%\n"
        },
        "colab": {
          "base_uri": "https://localhost:8080/",
          "height": 319
        },
        "id": "_w-yYpEh1uTE",
        "outputId": "0541ac63-1b08-4ee9-9531-439b287e6e86"
      },
      "source": [
        "nx.draw(g, with_labels = True)"
      ],
      "execution_count": null,
      "outputs": [
        {
          "output_type": "display_data",
          "data": {
            "image/png": "[encoded data removed]",
            "text/plain": [
              "<Figure size 432x288 with 1 Axes>"
            ]
          },
          "metadata": {}
        }
      ]
    },
    {
      "cell_type": "markdown",
      "metadata": {
        "collapsed": false,
        "pycharm": {
          "name": "#%% md\n"
        },
        "id": "2HQoV-711uTF"
      },
      "source": [
        "## 방향성 그래프 생성하기"
      ]
    },
    {
      "cell_type": "code",
      "metadata": {
        "pycharm": {
          "name": "#%%\n"
        },
        "id": "H4HFPSvS1uTF"
      },
      "source": [
        "G = nx.DiGraph()"
      ],
      "execution_count": null,
      "outputs": []
    },
    {
      "cell_type": "code",
      "metadata": {
        "pycharm": {
          "name": "#%%\n"
        },
        "id": "cUlXCxbY1uTF"
      },
      "source": [
        "G.add_nodes_from(['A','B','C','D','E'])"
      ],
      "execution_count": null,
      "outputs": []
    },
    {
      "cell_type": "code",
      "metadata": {
        "pycharm": {
          "name": "#%%\n"
        },
        "id": "jatZw1PL1uTF"
      },
      "source": [
        "G.add_edge('A','C',weight=8)\n",
        "G.add_edge('A','E',weight=10)\n",
        "G.add_edge('B','A',weight=15)\n",
        "G.add_edge('C','E',weight=23)\n",
        "G.add_edge('D','B',weight=17)\n",
        "G.add_edge('D','A',weight=27)\n",
        "G.add_edge('E','B',weight=11)\n",
        "G.add_edge('E','D',weight=5)"
      ],
      "execution_count": null,
      "outputs": []
    },
    {
      "cell_type": "code",
      "metadata": {
        "pycharm": {
          "name": "#%%\n"
        },
        "colab": {
          "base_uri": "https://localhost:8080/",
          "height": 319
        },
        "id": "ntUl1dwJ1uTF",
        "outputId": "2ceb94db-d1fd-4d4f-a9c9-07433c16381f"
      },
      "source": [
        "nx.draw(G, with_labels=True)"
      ],
      "execution_count": null,
      "outputs": [
        {
          "output_type": "display_data",
          "data": {
            "image/png": "[encoded data removed]",
            "text/plain": [
              "<Figure size 432x288 with 1 Axes>"
            ]
          },
          "metadata": {}
        }
      ]
    },
    {
      "cell_type": "markdown",
      "metadata": {
        "collapsed": false,
        "pycharm": {
          "name": "#%% md\n"
        },
        "id": "lJvHGPbc1uTF"
      },
      "source": [
        "## Degree 이해하기"
      ]
    },
    {
      "cell_type": "code",
      "metadata": {
        "pycharm": {
          "name": "#%%\n"
        },
        "colab": {
          "base_uri": "https://localhost:8080/"
        },
        "id": "5XGY6ENM1uTF",
        "outputId": "450a9069-6d45-4411-eb2c-2e21f9798433"
      },
      "source": [
        "# in/out degree 출력\n",
        "G.degree"
      ],
      "execution_count": null,
      "outputs": [
        {
          "output_type": "execute_result",
          "data": {
            "text/plain": [
              "DiDegreeView({'A': 4, 'B': 3, 'C': 2, 'D': 3, 'E': 4})"
            ]
          },
          "metadata": {},
          "execution_count": 59
        }
      ]
    },
    {
      "cell_type": "code",
      "metadata": {
        "pycharm": {
          "name": "#%%\n"
        },
        "colab": {
          "base_uri": "https://localhost:8080/"
        },
        "id": "ipU8dYMq1uTF",
        "outputId": "d8a1c0ac-ca14-4b9c-e9dd-d04e7c4607c1"
      },
      "source": [
        "# in_degree 출력\n",
        "G.in_degree()"
      ],
      "execution_count": null,
      "outputs": [
        {
          "output_type": "execute_result",
          "data": {
            "text/plain": [
              "InDegreeView({'A': 2, 'B': 2, 'C': 1, 'D': 1, 'E': 2})"
            ]
          },
          "metadata": {},
          "execution_count": 60
        }
      ]
    },
    {
      "cell_type": "code",
      "metadata": {
        "pycharm": {
          "name": "#%%\n"
        },
        "colab": {
          "base_uri": "https://localhost:8080/"
        },
        "id": "NTBRcNi11uTF",
        "outputId": "2d4eecf5-4eee-4a6e-da48-0353e270dbf8"
      },
      "source": [
        "# out_degree 출력\n",
        "G.out_degree()"
      ],
      "execution_count": null,
      "outputs": [
        {
          "output_type": "execute_result",
          "data": {
            "text/plain": [
              "OutDegreeView({'A': 2, 'B': 1, 'C': 1, 'D': 2, 'E': 2})"
            ]
          },
          "metadata": {},
          "execution_count": 72
        }
      ]
    },
    {
      "cell_type": "markdown",
      "metadata": {
        "collapsed": false,
        "pycharm": {
          "name": "#%% md\n"
        },
        "id": "h0B1q9Ha1uTG"
      },
      "source": [
        "## 전임노드(Predecessor node)와 후임노드(Successor node)란?\n",
        "Successor node: Digraph에서 기준이 되는 node의 edge에 의해 다음으로 가리키는 node를 뜻한다.\n",
        "\n",
        "Predecessor node: Digraph에서 기준이 되는 노드가 edge에 의해 가리켜지는  node를 뜻한다.\n",
        "\n",
        "예를 들어 A를 기준으로 치면 다음으로 가리키는 C, E가 Successor node가 된다.\n",
        "\n",
        "그리고 A를 기준으로 화살표를 받는 B,D가 Predecessor node가 된다."
      ]
    },
    {
      "cell_type": "code",
      "metadata": {
        "pycharm": {
          "name": "#%%\n"
        },
        "colab": {
          "base_uri": "https://localhost:8080/"
        },
        "id": "gIz4zTy-1uTG",
        "outputId": "6a3780e9-4d16-4b87-cd1e-28a5830b06af"
      },
      "source": [
        "# A의 successor nodes\n",
        "list(G.successors('A'))"
      ],
      "execution_count": null,
      "outputs": [
        {
          "output_type": "execute_result",
          "data": {
            "text/plain": [
              "['C', 'E']"
            ]
          },
          "metadata": {},
          "execution_count": 62
        }
      ]
    },
    {
      "cell_type": "code",
      "metadata": {
        "pycharm": {
          "name": "#%%\n"
        },
        "colab": {
          "base_uri": "https://localhost:8080/"
        },
        "id": "5jgoeqoO1uTG",
        "outputId": "f2c976fa-59dd-4cbc-92c1-73c6205f36b9"
      },
      "source": [
        "# B의 successor nodes\n",
        "list(G.predecessors('A'))"
      ],
      "execution_count": null,
      "outputs": [
        {
          "output_type": "execute_result",
          "data": {
            "text/plain": [
              "['B', 'D']"
            ]
          },
          "metadata": {},
          "execution_count": 63
        }
      ]
    },
    {
      "cell_type": "markdown",
      "metadata": {
        "collapsed": false,
        "pycharm": {
          "name": "#%% md\n"
        },
        "id": "s9QHSRNV1uTG"
      },
      "source": [
        "## 문제 5-1: 최고의 in-degree/out-degree 비율을 갖는 지점을 찾는 함수를 작성하여라."
      ]
    },
    {
      "cell_type": "code",
      "metadata": {
        "pycharm": {
          "name": "#%%\n"
        },
        "id": "yKzvDoL11uTG"
      },
      "source": [
        "# 랜덤으로 생성되는 방향을 가진 그래프 (directed graph)\n",
        "random_digraph = nx.fast_gnp_random_graph(10, 0.3, seed=None, directed=True)"
      ],
      "execution_count": null,
      "outputs": []
    },
    {
      "cell_type": "code",
      "metadata": {
        "pycharm": {
          "name": "#%%\n"
        },
        "colab": {
          "base_uri": "https://localhost:8080/",
          "height": 319
        },
        "id": "u-MQgoXi1uTG",
        "outputId": "9de8cf7b-9d04-4669-d0a2-e9f3026c28cb"
      },
      "source": [
        "nx.draw(random_digraph)"
      ],
      "execution_count": null,
      "outputs": [
        {
          "output_type": "display_data",
          "data": {
            "image/png": "[encoded data removed]",
            "text/plain": [
              "<Figure size 432x288 with 1 Axes>"
            ]
          },
          "metadata": {}
        }
      ]
    },
    {
      "cell_type": "code",
      "metadata": {
        "pycharm": {
          "name": "#%%\n"
        },
        "id": "C2ICCJxX1uTG"
      },
      "source": [
        "def find_highest_custom_degree(graph):\n",
        "  '''\n",
        "  주어진 그래프로부터 제일 높은 custom_degree를 찾는 것을 목표한다.\n",
        "  구체적으로, 각 노드에서 custom_degree는  ( in_degree * 10 - out_degree * 5 ) 로 계산된다.\n",
        "  :param graph: 그래프\n",
        "  :return: 최대 높은 custom degree\n",
        "  '''\n",
        "  highest_score = -1\n",
        "  for n in graph.nodes:\n",
        "    in_degree = graph.in_degree(n)\n",
        "    out_degree = graph.out_degree(n)\n",
        "    score = in_degree * 10 - out_degree * 5\n",
        "    if  highest_score > score:\n",
        "        # your code here\n",
        "        continue\n",
        "    else:\n",
        "      highest_score = score\n",
        "    # your code here\n",
        "  return highest_score"
      ],
      "execution_count": null,
      "outputs": []
    },
    {
      "cell_type": "code",
      "metadata": {
        "pycharm": {
          "name": "#%%\n"
        },
        "id": "n3-CoQvs1uTG",
        "colab": {
          "base_uri": "https://localhost:8080/"
        },
        "outputId": "1779f765-ed69-4676-ac57-3e5ccb544b69"
      },
      "source": [
        "find_highest_custom_degree(random_digraph)"
      ],
      "execution_count": null,
      "outputs": [
        {
          "output_type": "execute_result",
          "data": {
            "text/plain": [
              "50"
            ]
          },
          "metadata": {},
          "execution_count": 79
        }
      ]
    },
    {
      "cell_type": "markdown",
      "metadata": {
        "collapsed": false,
        "pycharm": {
          "name": "#%% md\n"
        },
        "id": "N4dO0LWR1uTH"
      },
      "source": [
        "## 문제 5-2: 넓이 우선 검색(Breadth-First Search)  구현하기\n",
        "\n",
        "넓이 우선검색은 Level 우선 검색이라고도 한다. 가까운 근처 이웃부터 천천히 검색하는 방법이다. 즉, 주위의 정보를 먼저 검색하고 그 다음에 점점 먼 이웃을 검색하는 방법이다.\n",
        "\n",
        "connected_caveman_graph 는 k 크기의 l 개의 clique를 가진 caveman 그래프를 반환한다. 예로, 5-clique가 5개인 그래프를 다음과 같이 생성할 수 있다. 5-clique는 5명이 완벽하게 서로 커뮤니케이션하는 완전한 그래프라고 할 수 있다.\n",
        "\n"
      ]
    },
    {
      "cell_type": "code",
      "metadata": {
        "pycharm": {
          "name": "#%%\n"
        },
        "colab": {
          "base_uri": "https://localhost:8080/",
          "height": 319
        },
        "id": "MAcL9PUM1uTH",
        "outputId": "9416f523-f796-44a6-afe6-ec37ed1a13fa"
      },
      "source": [
        "g =  nx.connected_caveman_graph(5, 5)\n",
        "nx.draw(g, with_labels=True)"
      ],
      "execution_count": null,
      "outputs": [
        {
          "output_type": "display_data",
          "data": {
            "image/png": "[encoded data removed]",
            "text/plain": [
              "<Figure size 432x288 with 1 Axes>"
            ]
          },
          "metadata": {}
        }
      ]
    },
    {
      "cell_type": "code",
      "metadata": {
        "pycharm": {
          "name": "#%%\n"
        },
        "id": "8G1bcknh1uTH"
      },
      "source": [
        "def bfs(graph, source):\n",
        "  '''\n",
        "  # 넓이우선 검색 함수를 구현하시오\n",
        "  :param graph: graph는 이전 g 파라미터\n",
        "  :param source: source는 시작노드\n",
        "  :return: 마지막 도착 노드\n",
        "  '''\n",
        "  visit = list()\n",
        "  queue = list()\n",
        "  queue.append(source)\n",
        "\n",
        "  while queue:\n",
        "    node = queue.pop(0)\n",
        "    if node not in visit:\n",
        "      visit.append(node)\n",
        "      queue.extend(graph[node])\n",
        "      last_visited = node\n",
        "  # your code here\n",
        "  return last_visited"
      ],
      "execution_count": null,
      "outputs": []
    },
    {
      "cell_type": "code",
      "metadata": {
        "pycharm": {
          "name": "#%%\n"
        },
        "colab": {
          "base_uri": "https://localhost:8080/"
        },
        "id": "jlq2z5nC1uTH",
        "outputId": "378a7eb9-9c4c-40bb-c8a1-bfd78986dd6e"
      },
      "source": [
        "bfs(g, 0)"
      ],
      "execution_count": null,
      "outputs": [
        {
          "output_type": "execute_result",
          "data": {
            "text/plain": [
              "11"
            ]
          },
          "metadata": {},
          "execution_count": 105
        }
      ]
    },
    {
      "cell_type": "markdown",
      "metadata": {
        "collapsed": false,
        "pycharm": {
          "name": "#%% md\n"
        },
        "id": "mnV3dqPr1uTH"
      },
      "source": [
        "# 소셜네트워크 분석 이해하기\n",
        "그래프 네트워크에서 노드간의 직접적인 연결은 1 홉(hop)에 있다고 표현한다. 예를 들면, (A)-(B)-(C) 가 3개로 노드로 이루어진 그래프에서, A와 C는 2 hops 관계 있다고 본다. 따라서, 큰 hop은 해당 노드로 부터 멀리 떨어져 있는 노드로 볼 수 있다. 소셜네트워크에서는, 친구와 친구 사이의 관계가 먼 것으로 이야기한다."
      ]
    },
    {
      "cell_type": "code",
      "metadata": {
        "pycharm": {
          "name": "#%%\n"
        },
        "colab": {
          "base_uri": "https://localhost:8080/"
        },
        "id": "8E6qxsGl1uTH",
        "outputId": "14d68abd-f5c6-4634-c10d-27093d82931b"
      },
      "source": [
        "# source 로부터 n-HOPS가 떨어진 노드들을 찾는 방법\n",
        "HOPS = 2\n",
        "[n for n, d in nx.shortest_path_length(g ,source=0).items() if d==HOPS]"
      ],
      "execution_count": null,
      "outputs": [
        {
          "output_type": "execute_result",
          "data": {
            "text/plain": [
              "[96, 3, 36, 6, 7, 70, 38, 43, 14, 47, 88, 59]"
            ]
          },
          "metadata": {},
          "execution_count": 130
        }
      ]
    },
    {
      "cell_type": "markdown",
      "metadata": {
        "collapsed": false,
        "pycharm": {
          "name": "#%% md\n"
        },
        "id": "MI5d94RQ1uTH"
      },
      "source": [
        "## 문제 6-1: 인플루언서로부터 전체 노드의 50%를 차지하게되는 최소 HOPS를 계산하여라.\n",
        "인플루언서 p가 주어졌을때, p가 전체 노드의 50%를 알게 되는 최소 HOPS을 찾는 함수 find_min_hops_with_above_50_friends()을 구현하시오\n",
        "\n",
        "Watts-Strogatz 그래프 모델은 Small-World 그래프를 표현합니다. Small-World 그래프는 많은 노드가 하나 이상의 이웃을 가지지 않는, 일부 노드에 많은 이웃을 가지게되는 그래프입니다. 예로, 우리가 알고있는 인플루언서 기반 소셜네트워크, 온라인 상점 내 인기상품 기반 상품 네트워크 등은 이러한 Small World 그래프 입니다. 또한, 실제 사람들의 커뮤니티에서도 많은 사람들은 적은 수의 사람들을 알고 있으며, 소수의 사람들이 많은 인맥을 가지는 구조로 보여주게 됩니다.\n",
        "참조링크: (Small-World 그래프)[https://en.wikipedia.org/wiki/Small-world_network]\n",
        "\n"
      ]
    },
    {
      "cell_type": "code",
      "metadata": {
        "pycharm": {
          "name": "#%%\n"
        },
        "colab": {
          "base_uri": "https://localhost:8080/",
          "height": 319
        },
        "id": "kpfjdd_F1uTH",
        "outputId": "fc2750f5-68f9-4bda-89ab-febbaeb65dee"
      },
      "source": [
        "# watts_strogatz_graph는 Small World 그래프 생성을 위해 다음과 같은 arguments을 input으로 받아 그래프를 생성합니다.\n",
        "# n은 노드의 수, k는 각 노드마다 연결될 이웃의 수(edge의 수), p= 연결될 확률\n",
        "g = nx.watts_strogatz_graph(n = 100, k= 5, p = 0.5, seed=None)\n",
        "nx.draw(g, with_labels=True)"
      ],
      "execution_count": null,
      "outputs": [
        {
          "output_type": "display_data",
          "data": {
            "image/png": "[encoded data removed]",
            "text/plain": [
              "<Figure size 432x288 with 1 Axes>"
            ]
          },
          "metadata": {}
        }
      ]
    },
    {
      "cell_type": "code",
      "metadata": {
        "pycharm": {
          "name": "#%%\n"
        },
        "id": "yZobODF01uTH"
      },
      "source": [
        "def find_min_hops_with_above_50_friends(g, influencer=0, min_percent=50):\n",
        "  '''\n",
        "  주어진 노드가 50% 이상의 친구 노드를 가지는 최소 홉수를 찾으시오\n",
        "  :param g: 그래프\n",
        "  :param influencer: 타겟이 될 인플루언서 노드\n",
        "  :param min_percent: 최소 요구해야할 노드의 비율 실제 필요한 노드 수는 전체 노드 수(g.nodes) * 0.5 이상이 되어야한다.\n",
        "  :return: 최소 hops 로 반환해야한다.\n",
        "  '''\n",
        "  visit=0\n",
        "  hops=1\n",
        "  while visit<0.01*min_percent*g.number_of_nodes():\n",
        "    i=[n for n, d in nx.shortest_path_length(g,influencer).items() if d== hops]\n",
        "    visit = visit+len(i)\n",
        "    if visit>=0.01*min_percent*g.number_of_nodes():\n",
        "      break\n",
        "    hops=hops+1\n",
        "  return hops"
      ],
      "execution_count": null,
      "outputs": []
    },
    {
      "cell_type": "code",
      "metadata": {
        "colab": {
          "base_uri": "https://localhost:8080/"
        },
        "id": "jm9O4PdaVXz6",
        "outputId": "e1911021-b7f0-4bf2-bafb-323032715e5b"
      },
      "source": [
        "find_min_hops_with_above_50_friends(g,0,50)\n",
        "#[n for n, d in nx.shortest_path_length(g ,0).items() if d==3]"
      ],
      "execution_count": null,
      "outputs": [
        {
          "output_type": "execute_result",
          "data": {
            "text/plain": [
              "4"
            ]
          },
          "metadata": {},
          "execution_count": 168
        }
      ]
    }
  ]
}